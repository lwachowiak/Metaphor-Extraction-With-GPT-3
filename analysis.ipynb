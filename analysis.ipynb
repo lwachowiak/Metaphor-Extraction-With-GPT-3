{
 "cells": [
  {
   "cell_type": "markdown",
   "metadata": {},
   "source": [
    "# Preprocessing"
   ]
  },
  {
   "cell_type": "code",
   "execution_count": null,
   "metadata": {},
   "outputs": [],
   "source": [
    "import pandas as pd\n",
    "import os\n",
    "import openai\n",
    "import math\n",
    "import numpy as np\n",
    "from gensim import matutils\n",
    "import gensim.downloader\n",
    "import time\n",
    "import requests\n",
    "from sklearn.model_selection import ParameterGrid\n",
    "import statistics\n",
    "import wandb\n",
    "openai.api_key = openai.api_key_path=\"GPT3.txt\"\n",
    "wandb.login()"
   ]
  },
  {
   "cell_type": "code",
   "execution_count": 2,
   "metadata": {},
   "outputs": [
    {
     "data": {
      "text/plain": [
       "0.15602754"
      ]
     },
     "execution_count": 2,
     "metadata": {},
     "output_type": "execute_result"
    }
   ],
   "source": [
    "word_vectors = gensim.downloader.load('glove-wiki-gigaword-300')\n",
    "word_vectors.similarity('table', 'spain')"
   ]
  },
  {
   "cell_type": "code",
   "execution_count": null,
   "metadata": {},
   "outputs": [],
   "source": [
    "# read csv dataset\n",
    "df = pd.read_csv('Data/crawled_metaphors_selected_three_examples.csv', sep=\";\", index_col=0)\n",
    "df_non_metaphoric = pd.read_csv('Data/non_metaphoric_examples.csv', sep=\";\")\n",
    "df.head()"
   ]
  },
  {
   "cell_type": "code",
   "execution_count": 4,
   "metadata": {},
   "outputs": [
    {
     "data": {
      "text/html": [
       "<div>\n",
       "<style scoped>\n",
       "    .dataframe tbody tr th:only-of-type {\n",
       "        vertical-align: middle;\n",
       "    }\n",
       "\n",
       "    .dataframe tbody tr th {\n",
       "        vertical-align: top;\n",
       "    }\n",
       "\n",
       "    .dataframe thead th {\n",
       "        text-align: right;\n",
       "    }\n",
       "</style>\n",
       "<table border=\"1\" class=\"dataframe\">\n",
       "  <thead>\n",
       "    <tr style=\"text-align: right;\">\n",
       "      <th></th>\n",
       "      <th>Source Domain</th>\n",
       "      <th>Target Domain</th>\n",
       "      <th>counts</th>\n",
       "    </tr>\n",
       "  </thead>\n",
       "  <tbody>\n",
       "    <tr>\n",
       "      <th>38</th>\n",
       "      <td>destruction</td>\n",
       "      <td>intoxication</td>\n",
       "      <td>4</td>\n",
       "    </tr>\n",
       "    <tr>\n",
       "      <th>129</th>\n",
       "      <td>size</td>\n",
       "      <td>amount</td>\n",
       "      <td>4</td>\n",
       "    </tr>\n",
       "    <tr>\n",
       "      <th>108</th>\n",
       "      <td>plants</td>\n",
       "      <td>beliefs</td>\n",
       "      <td>4</td>\n",
       "    </tr>\n",
       "    <tr>\n",
       "      <th>53</th>\n",
       "      <td>goal</td>\n",
       "      <td>success</td>\n",
       "      <td>4</td>\n",
       "    </tr>\n",
       "    <tr>\n",
       "      <th>6</th>\n",
       "      <td>areas</td>\n",
       "      <td>subjects</td>\n",
       "      <td>4</td>\n",
       "    </tr>\n",
       "  </tbody>\n",
       "</table>\n",
       "</div>"
      ],
      "text/plain": [
       "    Source Domain Target Domain  counts\n",
       "38    destruction  intoxication       4\n",
       "129          size        amount       4\n",
       "108        plants       beliefs       4\n",
       "53           goal       success       4\n",
       "6           areas      subjects       4"
      ]
     },
     "execution_count": 4,
     "metadata": {},
     "output_type": "execute_result"
    }
   ],
   "source": [
    "# how many different unique combinations of source and target\n",
    "combinations = df.groupby(['Source Domain', 'Target Domain']).size().reset_index(name='counts').sort_values(by='counts', ascending=False)\n",
    "combinations.head()"
   ]
  },
  {
   "cell_type": "code",
   "execution_count": 5,
   "metadata": {},
   "outputs": [
    {
     "name": "stdout",
     "output_type": "stream",
     "text": [
      "Number of target domains in VUA non-metaphoric: 47\n",
      "Number of target domains in Metaphor List: 91\n",
      "Number of source domains in Metaphor List: 94\n"
     ]
    }
   ],
   "source": [
    "print(\"Number of target domains in VUA non-metaphoric:\",len(df_non_metaphoric['Target Domain'].unique()))\n",
    "print(\"Number of target domains in Metaphor List:\",len(df['Target Domain'].unique()))\n",
    "print(\"Number of source domains in Metaphor List:\",len(df['Source Domain'].unique()))"
   ]
  },
  {
   "cell_type": "code",
   "execution_count": 6,
   "metadata": {},
   "outputs": [
    {
     "name": "stdout",
     "output_type": "stream",
     "text": [
      "40 113\n"
     ]
    },
    {
     "data": {
      "text/html": [
       "<div>\n",
       "<style scoped>\n",
       "    .dataframe tbody tr th:only-of-type {\n",
       "        vertical-align: middle;\n",
       "    }\n",
       "\n",
       "    .dataframe tbody tr th {\n",
       "        vertical-align: top;\n",
       "    }\n",
       "\n",
       "    .dataframe thead th {\n",
       "        text-align: right;\n",
       "    }\n",
       "</style>\n",
       "<table border=\"1\" class=\"dataframe\">\n",
       "  <thead>\n",
       "    <tr style=\"text-align: right;\">\n",
       "      <th></th>\n",
       "      <th>Source Domain</th>\n",
       "      <th>Target Domain</th>\n",
       "      <th>counts</th>\n",
       "    </tr>\n",
       "  </thead>\n",
       "  <tbody>\n",
       "    <tr>\n",
       "      <th>38</th>\n",
       "      <td>destruction</td>\n",
       "      <td>intoxication</td>\n",
       "      <td>4</td>\n",
       "    </tr>\n",
       "    <tr>\n",
       "      <th>129</th>\n",
       "      <td>size</td>\n",
       "      <td>amount</td>\n",
       "      <td>4</td>\n",
       "    </tr>\n",
       "    <tr>\n",
       "      <th>108</th>\n",
       "      <td>plants</td>\n",
       "      <td>beliefs</td>\n",
       "      <td>4</td>\n",
       "    </tr>\n",
       "    <tr>\n",
       "      <th>53</th>\n",
       "      <td>goal</td>\n",
       "      <td>success</td>\n",
       "      <td>4</td>\n",
       "    </tr>\n",
       "    <tr>\n",
       "      <th>6</th>\n",
       "      <td>areas</td>\n",
       "      <td>subjects</td>\n",
       "      <td>4</td>\n",
       "    </tr>\n",
       "    <tr>\n",
       "      <th>...</th>\n",
       "      <td>...</td>\n",
       "      <td>...</td>\n",
       "      <td>...</td>\n",
       "    </tr>\n",
       "    <tr>\n",
       "      <th>97</th>\n",
       "      <td>object</td>\n",
       "      <td>ideas</td>\n",
       "      <td>2</td>\n",
       "    </tr>\n",
       "    <tr>\n",
       "      <th>65</th>\n",
       "      <td>insanity</td>\n",
       "      <td>strong emotion</td>\n",
       "      <td>2</td>\n",
       "    </tr>\n",
       "    <tr>\n",
       "      <th>14</th>\n",
       "      <td>burden</td>\n",
       "      <td>intoxication</td>\n",
       "      <td>2</td>\n",
       "    </tr>\n",
       "    <tr>\n",
       "      <th>143</th>\n",
       "      <td>up</td>\n",
       "      <td>rational</td>\n",
       "      <td>2</td>\n",
       "    </tr>\n",
       "    <tr>\n",
       "      <th>63</th>\n",
       "      <td>insanity</td>\n",
       "      <td>excitement</td>\n",
       "      <td>1</td>\n",
       "    </tr>\n",
       "  </tbody>\n",
       "</table>\n",
       "<p>113 rows × 3 columns</p>\n",
       "</div>"
      ],
      "text/plain": [
       "    Source Domain   Target Domain  counts\n",
       "38    destruction    intoxication       4\n",
       "129          size          amount       4\n",
       "108        plants         beliefs       4\n",
       "53           goal         success       4\n",
       "6           areas        subjects       4\n",
       "..            ...             ...     ...\n",
       "97         object           ideas       2\n",
       "65       insanity  strong emotion       2\n",
       "14         burden    intoxication       2\n",
       "143            up        rational       2\n",
       "63       insanity      excitement       1\n",
       "\n",
       "[113 rows x 3 columns]"
      ]
     },
     "execution_count": 6,
     "metadata": {},
     "output_type": "execute_result"
    }
   ],
   "source": [
    "# split combinations randomly into train of size 40 and test set\n",
    "train = combinations.sample(n=40, random_state=1)\n",
    "test = combinations.drop(train.index)\n",
    "print(len(train), len(test))\n",
    "test"
   ]
  },
  {
   "cell_type": "code",
   "execution_count": 7,
   "metadata": {},
   "outputs": [
    {
     "name": "stdout",
     "output_type": "stream",
     "text": [
      "Source domain overlap train/test: 11\n",
      "Target domain overlap train/test: 15\n"
     ]
    }
   ],
   "source": [
    "# overlap in source domains between test and train\n",
    "s_test=test['Source Domain'].unique()\n",
    "s_train=train['Source Domain'].unique()\n",
    "# how many source domains are in both sets\n",
    "print(\"Source domain overlap train/test:\",len(set(s_test).intersection(s_train)))\n",
    "t_test = test['Target Domain'].unique()\n",
    "t_train = train['Target Domain'].unique()\n",
    "# how many target domains are in both sets\n",
    "print(\"Target domain overlap train/test:\",len(set(t_test).intersection(t_train)))"
   ]
  },
  {
   "cell_type": "code",
   "execution_count": null,
   "metadata": {},
   "outputs": [],
   "source": [
    "# create train, val, and test tests \n",
    "train_df = pd.DataFrame(columns=[\"Source Domain\", \"Target Domain\", \"Title\", \"Metaphor\", \"Example\"])\n",
    "for i, row in train.iterrows():\n",
    "    samples = df[(df[\"Source Domain\"]==row[\"Source Domain\"]) & (df[\"Target Domain\"]==row[\"Target Domain\"])] \n",
    "    train_df = train_df.append(samples.sample(n=min(3, len(samples)), random_state=1))\n",
    "\n",
    "test_df = pd.DataFrame(columns=[\"Source Domain\", \"Target Domain\", \"Title\", \"Metaphor\", \"Example\"])\n",
    "valid_df = pd.DataFrame(columns=[\"Source Domain\", \"Target Domain\", \"Title\", \"Metaphor\", \"Example\"])\n",
    "for i, row in test.iterrows():\n",
    "    samples = df[(df[\"Source Domain\"]==row[\"Source Domain\"]) & (df[\"Target Domain\"]==row[\"Target Domain\"])] \n",
    "    # split into samples for test and val; 1 sample for val, 2 for test\n",
    "    test_samples = samples.sample(n=min(2, len(samples)), random_state=1)\n",
    "    test_df = test_df.append(test_samples)\n",
    "    valid_df = valid_df.append(samples.drop(test_samples.index))\n",
    "valid_df.head()\n"
   ]
  },
  {
   "cell_type": "code",
   "execution_count": null,
   "metadata": {},
   "outputs": [],
   "source": [
    "# distribute non-metaphoric samples across train, val, and test\n",
    "train_df = train_df.append(df_non_metaphoric[:15])\n",
    "valid_df = valid_df.append(df_non_metaphoric[15:30])\n",
    "test_df = test_df.append(df_non_metaphoric[30:])"
   ]
  },
  {
   "cell_type": "code",
   "execution_count": 10,
   "metadata": {},
   "outputs": [
    {
     "name": "stdout",
     "output_type": "stream",
     "text": [
      "Lenght of train:  132\n",
      "Lenght of valid:  120\n",
      "Lenght of test:  244\n"
     ]
    }
   ],
   "source": [
    "print(\"Lenght of train: \", len(train_df))\n",
    "print(\"Lenght of valid: \", len(valid_df))\n",
    "print(\"Lenght of test: \", len(test_df))"
   ]
  },
  {
   "cell_type": "markdown",
   "metadata": {},
   "source": [
    "## LCC Dataset for Additional Evaluation"
   ]
  },
  {
   "cell_type": "code",
   "execution_count": 11,
   "metadata": {},
   "outputs": [
    {
     "data": {
      "text/html": [
       "<div>\n",
       "<style scoped>\n",
       "    .dataframe tbody tr th:only-of-type {\n",
       "        vertical-align: middle;\n",
       "    }\n",
       "\n",
       "    .dataframe tbody tr th {\n",
       "        vertical-align: top;\n",
       "    }\n",
       "\n",
       "    .dataframe thead th {\n",
       "        text-align: right;\n",
       "    }\n",
       "</style>\n",
       "<table border=\"1\" class=\"dataframe\">\n",
       "  <thead>\n",
       "    <tr style=\"text-align: right;\">\n",
       "      <th></th>\n",
       "      <th>Example</th>\n",
       "      <th>Source Domain</th>\n",
       "      <th>Target Domain</th>\n",
       "    </tr>\n",
       "  </thead>\n",
       "  <tbody>\n",
       "    <tr>\n",
       "      <th>0</th>\n",
       "      <td>So, you advocate for the ability to deny peopl...</td>\n",
       "      <td>['ABYSS', 'DISEASE']</td>\n",
       "      <td>POVERTY</td>\n",
       "    </tr>\n",
       "    <tr>\n",
       "      <th>1</th>\n",
       "      <td>I found few things wrong with \"Law,\" written b...</td>\n",
       "      <td>['LIGHT']</td>\n",
       "      <td>WEALTH</td>\n",
       "    </tr>\n",
       "    <tr>\n",
       "      <th>2</th>\n",
       "      <td>I, personally, do not see people who \"are born...</td>\n",
       "      <td>['PHYSICAL_LOCATION', 'PHYSICAL_LOCATION']</td>\n",
       "      <td>WEALTH</td>\n",
       "    </tr>\n",
       "    <tr>\n",
       "      <th>3</th>\n",
       "      <td>Now if you \"eliminate those who already have t...</td>\n",
       "      <td>['ABYSS', 'ABYSS', 'NATURAL_PHYSICAL_FORCE', '...</td>\n",
       "      <td>POVERTY</td>\n",
       "    </tr>\n",
       "    <tr>\n",
       "      <th>4</th>\n",
       "      <td>The NBS report makes it quite clear that with ...</td>\n",
       "      <td>['MACHINE', 'ABYSS', 'ABYSS']</td>\n",
       "      <td>POVERTY</td>\n",
       "    </tr>\n",
       "  </tbody>\n",
       "</table>\n",
       "</div>"
      ],
      "text/plain": [
       "                                             Example  \\\n",
       "0  So, you advocate for the ability to deny peopl...   \n",
       "1  I found few things wrong with \"Law,\" written b...   \n",
       "2  I, personally, do not see people who \"are born...   \n",
       "3  Now if you \"eliminate those who already have t...   \n",
       "4  The NBS report makes it quite clear that with ...   \n",
       "\n",
       "                                       Source Domain Target Domain  \n",
       "0                               ['ABYSS', 'DISEASE']       POVERTY  \n",
       "1                                          ['LIGHT']        WEALTH  \n",
       "2         ['PHYSICAL_LOCATION', 'PHYSICAL_LOCATION']        WEALTH  \n",
       "3  ['ABYSS', 'ABYSS', 'NATURAL_PHYSICAL_FORCE', '...       POVERTY  \n",
       "4                      ['MACHINE', 'ABYSS', 'ABYSS']       POVERTY  "
      ]
     },
     "execution_count": 11,
     "metadata": {},
     "output_type": "execute_result"
    }
   ],
   "source": [
    "LCC_df=pd.read_csv('Data/LCC_Metaphor_Dataset.small/en_small.csv', sep=\";\", index_col=0)\n",
    "LCC_es_df=pd.read_csv('Data/LCC_Metaphor_Dataset.small/es_small.csv', sep=\";\", index_col=0)\n",
    "LCC_df.head()"
   ]
  },
  {
   "cell_type": "code",
   "execution_count": 12,
   "metadata": {},
   "outputs": [
    {
     "name": "stdout",
     "output_type": "stream",
     "text": [
      "Number of Target Domains in LCC small: 30\n",
      "Number of Target Domains in LCC small Spanish: 11\n"
     ]
    }
   ],
   "source": [
    "# how many different target domains are in LCC_df\n",
    "print(\"Number of Target Domains in LCC small:\", len(LCC_df[\"Target Domain\"].unique()))\n",
    "print(\"Number of Target Domains in LCC small Spanish:\", len(LCC_es_df[\"Target Domain\"].unique()))"
   ]
  },
  {
   "cell_type": "code",
   "execution_count": 13,
   "metadata": {},
   "outputs": [
    {
     "name": "stdout",
     "output_type": "stream",
     "text": [
      "['TAXATION' 'POVERTY' 'MONEY' 'WEALTH' 'TAXPAYERS' 'DEBT' 'TAXES'\n",
      " 'ELECTIONS' 'BUREAUCRACY' 'GOVERNMENT' 'DEMOCRACY']\n"
     ]
    }
   ],
   "source": [
    "# print all target domains in LCC small es \n",
    "print(LCC_es_df[\"Target Domain\"].unique())"
   ]
  },
  {
   "cell_type": "code",
   "execution_count": 14,
   "metadata": {},
   "outputs": [
    {
     "data": {
      "text/plain": [
       "{'ABYSS', 'DISEASE'}"
      ]
     },
     "execution_count": 14,
     "metadata": {},
     "output_type": "execute_result"
    }
   ],
   "source": [
    "source_domains_LCC=LCC_df[\"Source Domain\"].unique()\n",
    "source_domains_LCC_es=LCC_es_df[\"Source Domain\"].unique()\n",
    "from ast import literal_eval\n",
    "for i in range(len(source_domains_LCC)):\n",
    "    source_domains_LCC[i]=set(literal_eval(source_domains_LCC[i]))\n",
    "for i in range(len(source_domains_LCC_es)):\n",
    "    source_domains_LCC_es[i]=set(literal_eval(source_domains_LCC_es[i]))\n",
    "\n",
    "source_domains_LCC[0]\n"
   ]
  },
  {
   "cell_type": "code",
   "execution_count": 15,
   "metadata": {},
   "outputs": [
    {
     "name": "stdout",
     "output_type": "stream",
     "text": [
      "Number of Source Domains in LCC small: 101\n",
      "Number of Source Domains in LCC small Spanish: 101\n"
     ]
    }
   ],
   "source": [
    "# a joined set of all source domains in LCC\n",
    "source_domains_LCC_set=set()\n",
    "source_domains_LCC_set_es=set()\n",
    "for i in range(len(source_domains_LCC)):\n",
    "    source_domains_LCC_set=source_domains_LCC_set.union(source_domains_LCC[i])\n",
    "for i in range(len(source_domains_LCC_es)):\n",
    "    source_domains_LCC_set_es=source_domains_LCC_set_es.union(source_domains_LCC_es[i])\n",
    "print(\"Number of Source Domains in LCC small:\", len(source_domains_LCC_set))\n",
    "print(\"Number of Source Domains in LCC small Spanish:\", len(source_domains_LCC_set_es))"
   ]
  },
  {
   "cell_type": "code",
   "execution_count": 16,
   "metadata": {},
   "outputs": [
    {
     "name": "stdout",
     "output_type": "stream",
     "text": [
      "Number of duplicates in LCC_df_300: 0\n",
      "Number of Source Domains in LCC_df_300: 90\n",
      "Length of LCC_df_300: 284\n"
     ]
    }
   ],
   "source": [
    "# create df of 300 samples from LCC, 10 per target domain\n",
    "LCC_df_300 = pd.DataFrame(columns=[\"Source Domain\", \"Target Domain\", \"Example\"])\n",
    "for i in range(len(LCC_df[\"Target Domain\"].unique())):\n",
    "    samples = LCC_df[LCC_df[\"Target Domain\"]==LCC_df[\"Target Domain\"].unique()[i]] \n",
    "    LCC_df_300 = LCC_df_300.append(samples.sample(n=min(10, len(samples)), random_state=144))\n",
    "duplicates=LCC_df_300.duplicated(subset=[\"Example\"]).sum()\n",
    "print(\"Number of duplicates in LCC_df_300:\", duplicates)\n",
    "# number of source domains in LCC_df_300\n",
    "source_domains_LCC_300=set()\n",
    "for i in range(len(LCC_df_300[\"Source Domain\"].unique())):\n",
    "    source_domains_LCC_300=source_domains_LCC_300.union(set(literal_eval(LCC_df_300[\"Source Domain\"].unique()[i])))\n",
    "print(\"Number of Source Domains in LCC_df_300:\", len(source_domains_LCC_300))\n",
    "print(\"Length of LCC_df_300:\", len(LCC_df_300))"
   ]
  },
  {
   "cell_type": "code",
   "execution_count": 17,
   "metadata": {},
   "outputs": [
    {
     "name": "stdout",
     "output_type": "stream",
     "text": [
      "Number of duplicates in LCC_es_df_110: 0\n",
      "Number of Source Domains in LCC_es_df_110: 67\n",
      "Length of LCC_es_df_110: 110\n"
     ]
    }
   ],
   "source": [
    "# create df of 110 samples from LCC es, 10 per target domain\n",
    "LCC_es_df_110 = pd.DataFrame(columns=[\"Source Domain\", \"Target Domain\", \"Example\"])\n",
    "for i in range(len(LCC_es_df[\"Target Domain\"].unique())):\n",
    "    samples = LCC_es_df[LCC_es_df[\"Target Domain\"]==LCC_es_df[\"Target Domain\"].unique()[i]] \n",
    "    LCC_es_df_110 = LCC_es_df_110.append(samples.sample(n=min(10, len(samples)), random_state=5))\n",
    "duplicates=LCC_es_df_110.duplicated(subset=[\"Example\"]).sum()\n",
    "print(\"Number of duplicates in LCC_es_df_110:\", duplicates)\n",
    "# number of source domains in LCC_es_df_110\n",
    "source_domains_LCC_es_110=set()\n",
    "for i in range(len(LCC_es_df_110[\"Source Domain\"].unique())):\n",
    "    source_domains_LCC_es_110=source_domains_LCC_es_110.union(set(literal_eval(LCC_es_df_110[\"Source Domain\"].unique()[i])))\n",
    "print(\"Number of Source Domains in LCC_es_df_110:\", len(source_domains_LCC_es_110))\n",
    "print(\"Length of LCC_es_df_110:\", len(LCC_es_df_110))\n"
   ]
  },
  {
   "cell_type": "code",
   "execution_count": null,
   "metadata": {},
   "outputs": [],
   "source": [
    "# rewrite target domain in lower case\n",
    "for i in range(len(LCC_df_300[\"Target Domain\"])):\n",
    "    LCC_df_300[\"Target Domain\"].iloc[i]=LCC_df_300[\"Target Domain\"].iloc[i].lower()\n",
    "LCC_df_300.reset_index(drop=True, inplace=True)\n",
    "LCC_df_300.head()"
   ]
  },
  {
   "cell_type": "code",
   "execution_count": null,
   "metadata": {},
   "outputs": [],
   "source": [
    "# rewrite target domain in lower case\n",
    "for i in range(len(LCC_es_df_110[\"Target Domain\"])):\n",
    "    LCC_es_df_110[\"Target Domain\"].iloc[i]=LCC_es_df_110[\"Target Domain\"].iloc[i].lower()\n",
    "LCC_es_df_110.reset_index(drop=True, inplace=True)\n",
    "LCC_es_df_110.head()"
   ]
  },
  {
   "cell_type": "markdown",
   "metadata": {},
   "source": [
    "# Prompt Creation"
   ]
  },
  {
   "cell_type": "code",
   "execution_count": 20,
   "metadata": {},
   "outputs": [],
   "source": [
    "def create_source_prompt(row):\n",
    "    prompt=\"Extract the conceptual metaphor from the following sentence:\\n\"\n",
    "    prompt+=\"Sentence: \"+row['Example']+\"\\n\"\n",
    "    prompt+=\"Target Domain: \"+str(row['Target Domain'])+\"\\n\"\n",
    "    prompt+=\"Source Domain:\"\n",
    "    completion=str(row['Source Domain'])\n",
    "    return prompt, completion\n",
    "\n",
    "def create_target_prompt(row):\n",
    "    prompt = \"Extract the conceptual metaphor from the following sentence:\\n\"\n",
    "    prompt+=\"Sentence: \"+row['Example']+\"\\n\"\n",
    "    prompt+=\"Source Domain: \"+str(row['Source Domain'])+\"\\n\"\n",
    "    prompt+=\"Target Domain:\"\n",
    "    completion = str(row['Target Domain'])\n",
    "    return prompt, completion\n",
    "\n",
    "def create_full_prompt(row):\n",
    "    prompt = \"Extract the conceptual metaphor from the following sentence:\\n\"\n",
    "    prompt+=\"Sentence: \"+row['Example']+\"\\n\"\n",
    "    completion = \"Target Domain: \"+str(row['Target Domain'])+\"\\n\"\n",
    "    completion+=\"Source Domain: \"+str(row['Source Domain'])\n",
    "    return prompt, completion"
   ]
  },
  {
   "cell_type": "code",
   "execution_count": 22,
   "metadata": {},
   "outputs": [
    {
     "name": "stdout",
     "output_type": "stream",
     "text": [
      "Prompt: Extract the conceptual metaphor from the following sentence:\n",
      "Sentence: He recovered his hopes for a peace on earth.\n",
      "Target Domain: hope\n",
      "Source Domain:\n",
      "Completion: possessions\n"
     ]
    }
   ],
   "source": [
    "# create source prompts\n",
    "list_of_source_prompts_train = []\n",
    "list_of_source_completions_train = []\n",
    "list_of_source_prompts_test = []\n",
    "list_of_source_completions_test = []\n",
    "list_of_source_prompts_valid = []\n",
    "list_of_source_completions_valid = []\n",
    "list_of_source_prompts_LCC = []\n",
    "list_of_source_completions_LCC = []\n",
    "list_of_source_prompts_LCC_es = []\n",
    "list_of_source_completions_LCC_es = []\n",
    "\n",
    "\n",
    "\n",
    "for i, row in train_df.iterrows():\n",
    "    list_of_source_prompts_train.append(create_source_prompt(row)[0])\n",
    "    list_of_source_completions_train.append(create_source_prompt(row)[1])\n",
    "\n",
    "for i, row in test_df.iterrows():\n",
    "    list_of_source_prompts_test.append(create_source_prompt(row)[0])\n",
    "    list_of_source_completions_test.append(create_source_prompt(row)[1])\n",
    "\n",
    "for i, row in valid_df.iterrows():\n",
    "    list_of_source_prompts_valid.append(create_source_prompt(row)[0])\n",
    "    list_of_source_completions_valid.append(create_source_prompt(row)[1])\n",
    "    \n",
    "for i, row in LCC_df_300.iterrows():\n",
    "    list_of_source_prompts_LCC.append(create_source_prompt(row)[0])\n",
    "    list_of_source_completions_LCC.append(create_source_prompt(row)[1])\n",
    "\n",
    "for i, row in LCC_es_df_110.iterrows():\n",
    "    list_of_source_prompts_LCC_es.append(create_source_prompt(row)[0])\n",
    "    list_of_source_completions_LCC_es.append(create_source_prompt(row)[1])\n",
    "    \n",
    "print(\"Prompt:\", list_of_source_prompts_train[2])\n",
    "print(\"Completion:\", list_of_source_completions_train[2])"
   ]
  },
  {
   "cell_type": "code",
   "execution_count": 23,
   "metadata": {},
   "outputs": [
    {
     "name": "stdout",
     "output_type": "stream",
     "text": [
      "Prompt: Extract the conceptual metaphor from the following sentence:\n",
      "Sentence: That's not my artwork on there, that's my little niece's artwork.\n",
      "Target Domain: artwork\n",
      "Source Domain:\n",
      "Completion: not metaphoric\n"
     ]
    }
   ],
   "source": [
    "# print prompt and completion for train side by side\n",
    "index=-3\n",
    "print(\"Prompt:\", list_of_source_prompts_train[index])\n",
    "print(\"Completion:\", list_of_source_completions_train[index])"
   ]
  },
  {
   "cell_type": "code",
   "execution_count": 24,
   "metadata": {},
   "outputs": [
    {
     "name": "stdout",
     "output_type": "stream",
     "text": [
      "Prompt: Extract the conceptual metaphor from the following sentence:\n",
      "Sentence: What is great about this resource is that it targets every possible area and route of poverty, rather than focusing on the traditional case studies of African poverty.\n",
      "Target Domain: poverty\n",
      "Source Domain:\n",
      "Completion: ['JOURNEY']\n"
     ]
    }
   ],
   "source": [
    "print(\"Prompt:\", list_of_source_prompts_LCC[2])\n",
    "print(\"Completion:\", list_of_source_completions_LCC[2])"
   ]
  },
  {
   "cell_type": "code",
   "execution_count": 25,
   "metadata": {},
   "outputs": [
    {
     "name": "stdout",
     "output_type": "stream",
     "text": [
      "Prompt: Extract the conceptual metaphor from the following sentence:\n",
      "Sentence: He recovered his hopes for a peace on earth.\n",
      "\n",
      "Completion: Target Domain: hope\n",
      "Source Domain: possessions\n"
     ]
    }
   ],
   "source": [
    "# create full prompts\n",
    "list_of_full_prompts_train = []\n",
    "list_of_full_completions_train = []\n",
    "list_of_full_prompts_test = []\n",
    "list_of_full_completions_test = []\n",
    "list_of_full_prompts_valid = []\n",
    "list_of_full_completions_valid = []\n",
    "list_of_full_prompts_LCC = []\n",
    "list_of_full_completions_LCC = []\n",
    "list_of_full_prompts_LCC_es = []\n",
    "list_of_full_completions_LCC_es = []\n",
    "\n",
    "\n",
    "for i, row in train_df.iterrows():\n",
    "    list_of_full_prompts_train.append(create_full_prompt(row)[0])\n",
    "    list_of_full_completions_train.append(create_full_prompt(row)[1])\n",
    "for i, row in test_df.iterrows():\n",
    "    list_of_full_prompts_test.append(create_full_prompt(row)[0])\n",
    "    list_of_full_completions_test.append(create_full_prompt(row)[1])\n",
    "for i, row in valid_df.iterrows():\n",
    "    list_of_full_prompts_valid.append(create_full_prompt(row)[0])\n",
    "    list_of_full_completions_valid.append(create_full_prompt(row)[1])\n",
    "for i, row in LCC_df_300.iterrows():\n",
    "    list_of_full_prompts_LCC.append(create_full_prompt(row)[0])\n",
    "    list_of_full_completions_LCC.append(create_full_prompt(row)[1])\n",
    "for i, row in LCC_es_df_110.iterrows():\n",
    "    list_of_full_prompts_LCC_es.append(create_full_prompt(row)[0])\n",
    "    list_of_full_completions_LCC_es.append(create_full_prompt(row)[1])\n",
    "print(\"Prompt:\", list_of_full_prompts_train[2])\n",
    "print(\"Completion:\", list_of_full_completions_train[2])"
   ]
  },
  {
   "cell_type": "code",
   "execution_count": 26,
   "metadata": {},
   "outputs": [],
   "source": [
    "def create_fewshot_prompts(prompts_train, completions_train, prompts_test, completions_test, train_indices, extra_def):\n",
    "    prompts = []\n",
    "    completions = []\n",
    "    train_prompt = \"\"\n",
    "    if extra_def:\n",
    "        train_prompt = 'In cognitive linguistics, conceptual metaphor, or cognitive metaphor, refers to the understanding of one idea, or conceptual domain, in terms of another. An example of this is the understanding of quantity in terms of directionality (e.g. \"the price of peace is rising\") or the understanding of time in terms of money (e.g. \"I spent time at work today\"). This idea, and a detailed examination of the underlying processes, was first extensively explored by George Lakoff and Mark Johnson in their work Metaphors We Live By in 1980.\\n'\n",
    "    for i in train_indices:\n",
    "        train_prompt+=prompts_train[i]+\" \"+completions_train[i]+\"\\n\"\n",
    "    for i in range(len(prompts_test)):\n",
    "        prompts.append(train_prompt+prompts_test[i])\n",
    "        completions.append(completions_test[i])\n",
    "    return prompts, completions\n",
    "\n",
    "\n",
    "# additional prompt variant for step by step reasoning generations\n",
    "def create_reasoning_prompts(prompts_test, completions_test):\n",
    "    prompts = []\n",
    "    completions = []\n",
    "    train_prompt = '''Prompt: Extract the conceptual metaphor from the following sentence:\n",
    "Sentence: He recovered his hopes for a peace on earth.\n",
    "Target Domain: hope\n",
    "Reasoning: In the sentence above, the hopes are recovered. Recovering has a basic physical sentence, that is, getting back an object that belonged to you previously. Thus, hopes are talked about as possessions or physical objects. \n",
    "Source Domain: possessions\n",
    "\n",
    "Prompt: Extract the conceptual metaphor from the following sentence:\n",
    "Sentence:  He finally found the key to the problem.\n",
    "Target Domain: problem\n",
    "Reasoning: The problem has a key, thus is a container that can be opened. \n",
    "Source Domain: container\n",
    "\n",
    "Prompt: Extract the conceptual metaphor from the following sentence:\n",
    "Sentence: You have to weigh the pros and cons.\n",
    "Target Domain: comparison\n",
    "Reasoning: In the sentence above, pros and cons are being compared. Instead of using the abstract word compare, the sentence uses the verb “to weight” usually used to describe measuring the weight of physical objects. Here, however, arguments, thus, non-physical entities, are being measures.\n",
    "Source Domain: measuring weight \n",
    "\n",
    "Prompt: Extract the conceptual metaphor from the following sentence:\n",
    "Sentence: the contagion of democratic ideas\n",
    "Target Domain: belief\n",
    "Reasoning: In the sentence above, ideas are described as something that is contagious, like a disease. \n",
    "Source Domain: disease\n",
    "\n",
    "Prompt: Extract the conceptual metaphor from the following sentence:\n",
    "Sentence: Follow your reasoning where it takes you.\n",
    "Target Domain: logic\n",
    "Reasoning: In the above sentence, logic refers to reasoning. Reasoning is described as something that you can follow, just like a path in the physical world.\n",
    "Source Domain: path\n",
    "\n",
    "Prompt: Extract the conceptual metaphor from the following sentence:\n",
    "Sentence: But he said, don't wash it I wanna wear it.\n",
    "Target Domain: washing\n",
    "Reasoning: Washing is used in a literal sense and no metaphoric transfer is taking place.\n",
    "Source Domain: not metaphoric\\n\\n'''\n",
    "    for i in range(len(prompts_test)):\n",
    "        # replace Source Domain with Reasoning in prompts_test[i]\n",
    "        p_test=prompts_test[i].replace(\"Source Domain\", \"Reasoning\")\n",
    "        prompts.append(train_prompt+p_test)\n",
    "        completions.append(completions_test[i])\n",
    "    return prompts, completions\n",
    "    "
   ]
  },
  {
   "cell_type": "code",
   "execution_count": 27,
   "metadata": {},
   "outputs": [
    {
     "name": "stdout",
     "output_type": "stream",
     "text": [
      "120\n"
     ]
    }
   ],
   "source": [
    "train_indices=[0,15,30,-1]\n",
    "prompts, completions = create_fewshot_prompts(prompts_train = list_of_source_prompts_train, completions_train = list_of_source_completions_train, \n",
    "                prompts_test = list_of_source_prompts_valid, completions_test = list_of_source_completions_valid, train_indices=train_indices, extra_def=True)\n",
    "print(len(prompts))"
   ]
  },
  {
   "cell_type": "code",
   "execution_count": 28,
   "metadata": {},
   "outputs": [
    {
     "name": "stdout",
     "output_type": "stream",
     "text": [
      "In cognitive linguistics, conceptual metaphor, or cognitive metaphor, refers to the understanding of one idea, or conceptual domain, in terms of another. An example of this is the understanding of quantity in terms of directionality (e.g. \"the price of peace is rising\") or the understanding of time in terms of money (e.g. \"I spent time at work today\"). This idea, and a detailed examination of the underlying processes, was first extensively explored by George Lakoff and Mark Johnson in their work Metaphors We Live By in 1980.\n",
      "Extract the conceptual metaphor from the following sentence:\n",
      "Sentence: I've lost all hope of a solution.\n",
      "Target Domain: hope\n",
      "Source Domain: possessions\n",
      "Extract the conceptual metaphor from the following sentence:\n",
      "Sentence: Time heals all wounds.\n",
      "Target Domain: time\n",
      "Source Domain: changer\n",
      "Extract the conceptual metaphor from the following sentence:\n",
      "Sentence: He's really high.\n",
      "Target Domain: euphoria\n",
      "Source Domain: up\n",
      "Extract the conceptual metaphor from the following sentence:\n",
      "Sentence: But he he said,  don't wash it I wanna wear it.\n",
      "Target Domain: washing\n",
      "Source Domain: not metaphoric\n",
      "Extract the conceptual metaphor from the following sentence:\n",
      "Sentence: This belief has taken root in my mind.\n",
      "Target Domain: beliefs\n",
      "Source Domain:\n",
      "plants\n"
     ]
    }
   ],
   "source": [
    "print(prompts[5])\n",
    "print(completions[5])"
   ]
  },
  {
   "cell_type": "code",
   "execution_count": 26,
   "metadata": {},
   "outputs": [],
   "source": [
    "# testing that GPT3 works\n",
    "GPT3_completions=[]\n",
    "for p in prompts[:5]:\n",
    "     c = openai.Completion.create(\n",
    "             model=\"text-davinci-002\",\n",
    "             prompt=p,\n",
    "             max_tokens=14,\n",
    "             temperature=0\n",
    "         )\n",
    "     GPT3_completions.append(c)\n",
    "df_results = valid_df.copy().reset_index()\n",
    "# append GPT3_completions to df_results [trainings_units:len(GPT3_completions)]\n",
    "if len(GPT3_completions)>0:\n",
    "    for i in range(len(GPT3_completions)):\n",
    "        df_results.loc[i, 'GPT3 Source Completion'] = GPT3_completions[i].choices[0].text\n",
    "    df_results[:len(GPT3_completions)][[\"Target Domain\", \"Source Domain\",\"GPT3 Source Completion\", \"Example\"]]"
   ]
  },
  {
   "cell_type": "markdown",
   "metadata": {},
   "source": [
    "# Eval Methods"
   ]
  },
  {
   "cell_type": "code",
   "execution_count": 29,
   "metadata": {},
   "outputs": [],
   "source": [
    "# compute the average similarity between the GPT3 completion and the source domain\n",
    "def compute_embedding_similarity(df_results, task_type):\n",
    "    '''\n",
    "    df_results: dataframe containing the GPT3 completions\n",
    "    result_samples: number of samples to be evaluated\n",
    "    '''\n",
    "    for i in range(len(df_results)):\n",
    "        if task_type == \"Source\":\n",
    "            gold = df_results.loc[i, 'Source Domain']\n",
    "        elif task_type == \"Target\":\n",
    "            gold = df_results.loc[i, 'Target Domain']\n",
    "        elif task_type == \"Finetuned\":\n",
    "            gold = df_results.loc[i, 'completion'].strip()\n",
    "            gold = gold[:gold.rfind(\"END\")].strip()\n",
    "        predicted = df_results.loc[i, 'GPT3 Completion'].strip()\n",
    "        # check if predicted or gold is multiple words\n",
    "        if \"-\" in predicted:\n",
    "            predicted = predicted.replace(\"-\", \" \")\n",
    "        try: \n",
    "            if len(predicted.split()) > 1:\n",
    "                predicted = matutils.unitvec(word_vectors.get_mean_vector(keys=predicted.split()))\n",
    "            else:\n",
    "                predicted = word_vectors.get_vector(predicted, norm=True)\n",
    "            if len(gold.split()) > 1:\n",
    "                #print(gold)\n",
    "                gold = matutils.unitvec(word_vectors.get_mean_vector(keys=gold.split()))\n",
    "            else:\n",
    "                gold = word_vectors.get_vector(gold, norm=True)\n",
    "            similarity = np.dot(predicted, gold)\n",
    "        except:\n",
    "            print(\"Error in computing embedding similarity for example: \", predicted, gold)\n",
    "            similarity = 0\n",
    "        df_results.loc[i, 'embedding_sim'] = similarity\n",
    "    mean = df_results['embedding_sim'].mean()\n",
    "    std = df_results['embedding_sim'].std()\n",
    "    return mean, std, df_results"
   ]
  },
  {
   "cell_type": "code",
   "execution_count": 30,
   "metadata": {},
   "outputs": [],
   "source": [
    "def query_resource_for_similarity(resource, gold_standard, prediction):\n",
    "  response = requests.get(\"http://kgvec2go.org/rest/get-similarity/\"+resource+\"/\"+gold_standard+\"/\"+prediction)\n",
    "  if \"result\" in response.json():\n",
    "    sim = response.json()[\"result\"]\n",
    "  else: \n",
    "    sim = 0\n",
    "  \n",
    "  return sim\n",
    "\n",
    "def query_resource_related_concepts(resource, gold_standard):\n",
    "  concepts = []\n",
    "  response = requests.get(\"http://kgvec2go.org/rest/closest-concepts/\"+resource+\"/10/\"+gold_standard)\n",
    "  if \"result\" in response.json():\n",
    "    for concept in response.json()[\"result\"]: \n",
    "      concepts.append(str(concept[\"concept\"]))\n",
    "  else: \n",
    "    concepts =[] \n",
    "  \n",
    "  return concepts\n",
    "\n",
    "\n",
    "def tuple_KB_similarity(gold_standard, prediction): \n",
    "  similarities = []\n",
    "\n",
    "  similarities.extend([query_resource_for_similarity(\"alod\", gold_standard, prediction)] if query_resource_for_similarity(\"alod\", gold_standard, prediction) > 0 else [])\n",
    "  similarities.extend([query_resource_for_similarity(\"dbpedia\", gold_standard, prediction)] if query_resource_for_similarity(\"dbpedia\", gold_standard, prediction) > 0 else [])\n",
    "  similarities.extend([query_resource_for_similarity(\"wiktionary\", gold_standard, prediction)] if query_resource_for_similarity(\"wiktionary\", gold_standard, prediction) > 0 else [])\n",
    "  similarities.extend([query_resource_for_similarity(\"wordnet\", gold_standard, prediction)] if query_resource_for_similarity(\"wordnet\", gold_standard, prediction) > 0 else [])\n",
    "\n",
    "  if len(similarities) > 0: \n",
    "    average_sim = statistics.mean(similarities)\n",
    "  else: \n",
    "    average_sim = 0 \n",
    "\n",
    "  return average_sim\n",
    "\n",
    "def check_closest_concepts(gold_standard, prediction): \n",
    "  close = False\n",
    "  concepts = []\n",
    "\n",
    "  concepts.extend(query_resource_related_concepts(\"alod\", gold_standard) if len(query_resource_related_concepts(\"alod\", gold_standard)) > 0 else [])\n",
    "  concepts.extend(query_resource_related_concepts(\"dbpedia\", gold_standard) if len(query_resource_related_concepts(\"dbpedia\", gold_standard)) > 0 else [])\n",
    "  concepts.extend(query_resource_related_concepts(\"wiktionary\", gold_standard) if len(query_resource_related_concepts(\"wiktionary\", gold_standard)) > 0 else [])\n",
    "\n",
    "  for concept in concepts: \n",
    "    if prediction in concept: \n",
    "      close = True\n",
    "  \n",
    "  return close\n",
    "\n",
    "def compute_KB_similarity(df_results, task_type):\n",
    "    '''\n",
    "    df_results: dataframe containing the GPT3 completions\n",
    "    result_samples: number of samples to be evaluated\n",
    "    '''\n",
    "    for i in range(len(df_results)):\n",
    "        if task_type == \"Source\":\n",
    "            gold = df_results.loc[i, 'Source Domain']\n",
    "        elif task_type == \"Target\":\n",
    "            gold = df_results.loc[i, 'Target Domain']\n",
    "        elif task_type == \"Finetuned\":\n",
    "            gold = df_results.loc[i, 'completion'].strip()\n",
    "            # remove \"END\" token\n",
    "            gold = gold[:gold.rfind(\"END\")].strip()\n",
    "        predicted = df_results.loc[i, 'GPT3 Completion'].strip()\n",
    "        # use tuple_KB_similarity to compute the similarity between the gold and the predicted\n",
    "        if predicted == gold:\n",
    "          similarity = 1\n",
    "        else:\n",
    "          similarity = tuple_KB_similarity(gold, predicted)\n",
    "        df_results.loc[i, 'KB_similarity'] = similarity\n",
    "    mean = df_results['KB_similarity'].mean()\n",
    "    std = df_results['KB_similarity'].std()\n",
    "    return mean, std, df_results"
   ]
  },
  {
   "cell_type": "code",
   "execution_count": 31,
   "metadata": {},
   "outputs": [],
   "source": [
    "def evaluate(df_results, task_type):\n",
    "    mean_em, std_em, df_results = compute_embedding_similarity(df_results, task_type)\n",
    "    print(\"Mean similarityc embeddings: \", mean_em)\n",
    "    print(\"Standard deviation embeddings: \", std_em)\n",
    "\n",
    "    mean_KB, std_KB, df_results = compute_KB_similarity(df_results, task_type)\n",
    "    print(\"Mean similarity KB: \", mean_KB)\n",
    "    print(\"Standard deviation KB: \", std_KB)\n",
    "    \n",
    "    return mean_em, std_em, mean_KB, std_KB, df_results\n"
   ]
  },
  {
   "cell_type": "markdown",
   "metadata": {},
   "source": [
    "# Prompt Tuning"
   ]
  },
  {
   "cell_type": "code",
   "execution_count": 32,
   "metadata": {},
   "outputs": [],
   "source": [
    "# this is currently specific to the task of predicting the source domain\n",
    "\n",
    "def get_GPT3_completions(train_indices, eval_set, temperature, model, result_samples, extra_def=False, reasoning=False, debug=False):\n",
    "    '''\n",
    "    train_indices: indices of the examples to be used for training\n",
    "    test: True if evaluation is on test set, False if evaluation is on validation set\n",
    "    temperature: temperature of the GPT3 model\n",
    "    model: GPT3 model to be used for evaluation\n",
    "    result_samples: number of samples to be evaluated\n",
    "    extra_def: True if extra definition is to be added to the beginning of the prompt\n",
    "    '''\n",
    "\n",
    "    if eval_set == \"test\":\n",
    "        prompts_test = list_of_source_prompts_test\n",
    "        completions_test = list_of_source_completions_test\n",
    "    elif eval_set == \"valid\":\n",
    "        prompts_test = list_of_source_prompts_valid\n",
    "        completions_test = list_of_source_completions_valid\n",
    "    elif eval_set == \"LCC\":\n",
    "        prompts_test = list_of_source_prompts_LCC\n",
    "        completions_test = list_of_source_completions_LCC\n",
    "    elif eval_set == \"LCC_es\":\n",
    "        prompts_test = list_of_source_prompts_LCC_es\n",
    "        completions_test = list_of_source_completions_LCC_es\n",
    "\n",
    "    if not reasoning:\n",
    "        prompts, completions = create_fewshot_prompts(prompts_train = list_of_source_prompts_train, completions_train = list_of_source_completions_train, \n",
    "                    prompts_test = prompts_test, completions_test = completions_test, train_indices=train_indices, extra_def=extra_def)\n",
    "    else:\n",
    "        prompts, completions = create_reasoning_prompts(prompts_test=prompts_test, completions_test=completions_test)\n",
    "   \n",
    "    GPT3_completions=[]\n",
    "    for i, p in enumerate(prompts[:result_samples]):\n",
    "        if debug:\n",
    "            print(\"Prompt\", i)\n",
    "            print(p)\n",
    "        else:\n",
    "            c = openai.Completion.create(\n",
    "                    model=model,\n",
    "                    prompt=p,\n",
    "                    max_tokens=100,\n",
    "                    temperature=temperature\n",
    "                )\n",
    "            GPT3_completions.append(c)\n",
    "            # wait to avoid rate limit\n",
    "            time.sleep(3)\n",
    "    \n",
    "    # append GPT3_completions to df_results \n",
    "    if debug == False:\n",
    "        if eval_set==\"test\":\n",
    "            df_results = test_df.copy().reset_index()\n",
    "        elif eval_set==\"valid\":\n",
    "            df_results = valid_df.copy().reset_index()\n",
    "        elif eval_set==\"LCC\":\n",
    "            df_results = LCC_df_300.copy().reset_index()\n",
    "        elif eval_set==\"LCC_es\":\n",
    "            df_results = LCC_es_df_110.copy().reset_index()\n",
    "        for i in range(len(GPT3_completions)):\n",
    "            df_results.loc[i, 'GPT3 Completion'] = GPT3_completions[i].choices[0].text\n",
    "        return df_results[:len(GPT3_completions)][[\"Target Domain\", \"Source Domain\",\"GPT3 Completion\", \"Example\"]]"
   ]
  },
  {
   "cell_type": "code",
   "execution_count": 34,
   "metadata": {},
   "outputs": [
    {
     "name": "stdout",
     "output_type": "stream",
     "text": [
      "Prompt 0\n",
      "Extract the conceptual metaphor from the following sentence:\n",
      "Sentence: I've lost all hope of a solution.\n",
      "Target Domain: hope\n",
      "Source Domain: possessions\n",
      "Extract the conceptual metaphor from the following sentence:\n",
      "Sentence: Even in backruptcy he managed to hang onto his car collection.\n",
      "Target Domain: possession\n",
      "Source Domain: holding\n",
      "Extract the conceptual metaphor from the following sentence:\n",
      "Sentence: A tigress in bed.\n",
      "Target Domain: lust\n",
      "Source Domain: animal\n",
      "Extract the conceptual metaphor from the following sentence:\n",
      "Sentence: He's really high.\n",
      "Target Domain: euphoria\n",
      "Source Domain: up\n",
      "Extract the conceptual metaphor from the following sentence:\n",
      "Sentence: We were made for each other.\n",
      "Target Domain: love\n",
      "Source Domain: part-whole\n",
      "Extract the conceptual metaphor from the following sentence:\n",
      "Sentence: Many theories sprang up out of the fertile soil of his discoveries.\n",
      "Target Domain: theories\n",
      "Source Domain: beings\n",
      "Extract the conceptual metaphor from the following sentence:\n",
      "Sentence: Her blood ran cold\n",
      "Target Domain: fear\n",
      "Source Domain: cold\n",
      "Extract the conceptual metaphor from the following sentence:\n",
      "Sentence: the contagion of democratic ideas\n",
      "Target Domain: belief\n",
      "Source Domain: disease\n",
      "Extract the conceptual metaphor from the following sentence:\n",
      "Sentence: She is made of tougher stuff.\n",
      "Target Domain: personality\n",
      "Source Domain: substance\n",
      "Extract the conceptual metaphor from the following sentence:\n",
      "Sentence: Things are at a standstill.\n",
      "Target Domain: progress\n",
      "Source Domain: motion\n",
      "Extract the conceptual metaphor from the following sentence:\n",
      "Sentence: She took inventory of her beliefs.\n",
      "Target Domain: beliefs\n",
      "Source Domain: commodities\n",
      "Extract the conceptual metaphor from the following sentence:\n",
      "Sentence: But he he said,  don't wash it I wanna wear it.\n",
      "Target Domain: washing\n",
      "Source Domain: not metaphoric\n",
      "Extract the conceptual metaphor from the following sentence:\n",
      "Sentence: He was wrecked.\n",
      "Target Domain: intoxication\n",
      "Source Domain:\n",
      "Prompt 1\n",
      "Extract the conceptual metaphor from the following sentence:\n",
      "Sentence: I've lost all hope of a solution.\n",
      "Target Domain: hope\n",
      "Source Domain: possessions\n",
      "Extract the conceptual metaphor from the following sentence:\n",
      "Sentence: Even in backruptcy he managed to hang onto his car collection.\n",
      "Target Domain: possession\n",
      "Source Domain: holding\n",
      "Extract the conceptual metaphor from the following sentence:\n",
      "Sentence: A tigress in bed.\n",
      "Target Domain: lust\n",
      "Source Domain: animal\n",
      "Extract the conceptual metaphor from the following sentence:\n",
      "Sentence: He's really high.\n",
      "Target Domain: euphoria\n",
      "Source Domain: up\n",
      "Extract the conceptual metaphor from the following sentence:\n",
      "Sentence: We were made for each other.\n",
      "Target Domain: love\n",
      "Source Domain: part-whole\n",
      "Extract the conceptual metaphor from the following sentence:\n",
      "Sentence: Many theories sprang up out of the fertile soil of his discoveries.\n",
      "Target Domain: theories\n",
      "Source Domain: beings\n",
      "Extract the conceptual metaphor from the following sentence:\n",
      "Sentence: Her blood ran cold\n",
      "Target Domain: fear\n",
      "Source Domain: cold\n",
      "Extract the conceptual metaphor from the following sentence:\n",
      "Sentence: the contagion of democratic ideas\n",
      "Target Domain: belief\n",
      "Source Domain: disease\n",
      "Extract the conceptual metaphor from the following sentence:\n",
      "Sentence: She is made of tougher stuff.\n",
      "Target Domain: personality\n",
      "Source Domain: substance\n",
      "Extract the conceptual metaphor from the following sentence:\n",
      "Sentence: Things are at a standstill.\n",
      "Target Domain: progress\n",
      "Source Domain: motion\n",
      "Extract the conceptual metaphor from the following sentence:\n",
      "Sentence: She took inventory of her beliefs.\n",
      "Target Domain: beliefs\n",
      "Source Domain: commodities\n",
      "Extract the conceptual metaphor from the following sentence:\n",
      "Sentence: But he he said,  don't wash it I wanna wear it.\n",
      "Target Domain: washing\n",
      "Source Domain: not metaphoric\n",
      "Extract the conceptual metaphor from the following sentence:\n",
      "Sentence: He got thrashed.\n",
      "Target Domain: intoxication\n",
      "Source Domain:\n"
     ]
    }
   ],
   "source": [
    "best_indices=[0, 10, 20, 30, 40, 50, 60, 70, 80, 90, 100, -1]\n",
    "get_GPT3_completions(train_indices=best_indices, eval_set=\"test\", temperature=0, model=\"davinci\", result_samples=2, extra_def=False, reasoning=False, debug=True)\n"
   ]
  },
  {
   "cell_type": "code",
   "execution_count": 52,
   "metadata": {},
   "outputs": [
    {
     "data": {
      "text/plain": [
       "132"
      ]
     },
     "execution_count": 52,
     "metadata": {},
     "output_type": "execute_result"
    }
   ],
   "source": [
    "len(list_of_source_completions_train)"
   ]
  },
  {
   "cell_type": "code",
   "execution_count": null,
   "metadata": {},
   "outputs": [],
   "source": [
    "# define training parameters \n",
    "result_samples = 999 # 999 for all\n",
    "model = \"text-curie-001\" # or \"text-davinci-002\"\n",
    "train_indices = [\n",
    "    [0, -1], [3, -2], [6, -3],\n",
    "    [0, 10, 20, -1], [3, 13, 23, -2], [6, 16, 26, -3],\n",
    "    [0, 10, 20, 30, 40, -1], [3, 13, 23, 33, 43, -2], [6, 16, 26, 36, 46, -3],\n",
    "    [0, 10, 20, 30, 40, 50, 60, -1], [3, 13, 23, 33, 43, 53, 63, -2], [6, 16, 26, 36, 46, 56, 66, -3],\n",
    "    [0, 10, 20, 30, 40, 50, 60, 70, 80, 90, 100, -1], [3, 13, 23, 33, 43, 53, 63, 73, 83, 93, 103,-2], [6, 16, 26, 36, 46, 56, 66, 76, 86, 96, 106, -3]\n",
    "    ]\n",
    "#train_indices = [[0,15,30,45,-1]] # just for testing purposes\n",
    "group=\"gridsearch\" \n",
    "\n",
    "param_grid = {'temperature':[0], 'eval_set':[\"valid\"], 'extra_def':[False], 'model':[model], 'train_indices': train_indices} #\"text-curie-001\" for faster/cheaper model\n",
    "param_grid = list(ParameterGrid(param_grid))\n",
    "print(\"Number of parameter combinations: \", len(param_grid), \"\\n\")\n",
    "print(param_grid)\n",
    "scores_em = []\n",
    "scores_KB = []\n",
    "\n",
    "for i, params in enumerate(param_grid):\n",
    "    print(\"Parameter combination \", i+1, \"/\", len(param_grid))\n",
    "    if i+1 <= 11: # >11 before\n",
    "        print(\"Parameters: \", params, \"\\n\")\n",
    "        run_name=params[\"eval_set\"]+\"_\"+params['model'][5:]+\"_temp-\"+str(params['temperature'])+\"_\"+str(params['train_indices'])+\"_(\"+str(len(params['train_indices']))+\"-train-samples)\"+\"_def-\"+str(params['extra_def'])\n",
    "        # prompt \n",
    "        df_results = get_GPT3_completions(params[\"train_indices\"], eval_set=params[\"eval_set\"], temperature=params['temperature'], model=params['model'], result_samples=result_samples, extra_def=params['extra_def'])\n",
    "        # evaluate \n",
    "        mean_em, std_em, mean_KB, std_KB, df_results = evaluate(df_results, \"Source\")\n",
    "        run_name+=\"_embscore-\"+str(round(mean_em, 2))[2:]\n",
    "        run_name+=\"_KBscore-\"+str(round(mean_KB, 2))[2:]\n",
    "        scores_em.append(mean_em)\n",
    "        scores_KB.append(mean_KB)\n",
    "\n",
    "        config={\n",
    "            \"model\": params['model'],\n",
    "            \"temperature\": params['temperature'],\n",
    "            \"train_indices\": params['train_indices'],\n",
    "            \"train_samples\": len(params['train_indices']),\n",
    "            \"extra_def\": params['extra_def'],\n",
    "            \"eval_set\": params['eval_set'],\n",
    "        }\n",
    "\n",
    "\n",
    "        with wandb.init(project=\"Metaphors\", config=config, group=group):\n",
    "            wandb.log({\"mean_em\": mean_em, \"std_em\": std_em, \"mean_KB\": mean_KB, \"std_KB\": std_KB})\n",
    "\n",
    "        df_results.to_csv(\"Validation Results/Source Completion/Few Shot/\"+run_name+\".csv\")\n"
   ]
  },
  {
   "cell_type": "code",
   "execution_count": 144,
   "metadata": {},
   "outputs": [
    {
     "data": {
      "image/png": "[encoded data removed]",
      "text/plain": [
       "<Figure size 432x360 with 1 Axes>"
      ]
     },
     "metadata": {
      "needs_background": "light"
     },
     "output_type": "display_data"
    }
   ],
   "source": [
    "import matplotlib.pyplot as plt\n",
    "train_samples=[2,4,6,8,12]\n",
    "scores_em_davinci = [[], [], [], [], []]\n",
    "scores_KB_davinci = [[], [], [], [], []]\n",
    "scores_em_curie = [[], [], [], [], []]\n",
    "scores_KB_curie = [[], [], [], [], []]\n",
    "c1=\"darkblue\"\n",
    "c2=\"lightblue\"\n",
    "c3=\"darkred\"\n",
    "c4=\"red\"\n",
    "\n",
    "for run in wandb.Api().runs(\"YOUR_USERNAME/YOUR_PROJECT\"): # replace with your username and project name\n",
    "    if run.group == \"gridsearch\":\n",
    "        amount_samples=run.config[\"train_samples\"]\n",
    "        if run.config[\"model\"]==\"text-davinci-002\":\n",
    "            scores_em_davinci[train_samples.index(amount_samples)].append(run.summary[\"mean_em\"])\n",
    "            scores_KB_davinci[train_samples.index(amount_samples)].append(run.summary[\"mean_KB\"])\n",
    "        elif run.config[\"model\"]==\"text-curie-001\":\n",
    "            scores_em_curie[train_samples.index(amount_samples)].append(run.summary[\"mean_em\"])\n",
    "            scores_KB_curie[train_samples.index(amount_samples)].append(run.summary[\"mean_KB\"])\n",
    "# plot averaged score + SD for each number of training samples\n",
    "plt.figure(figsize=(6,5))\n",
    "plt.errorbar([2,4,6,8,12], [np.mean(scores_KB_davinci[0]), np.mean(scores_KB_davinci[1]), np.mean(scores_KB_davinci[2]), np.mean(scores_KB_davinci[3]), np.mean(scores_KB_davinci[4])], yerr=[np.std(scores_KB_davinci[0], ddof=1), np.std(scores_KB_davinci[1], ddof=1), np.std(scores_KB_davinci[2], ddof=1), np.std(scores_KB_davinci[3], ddof=1), np.std(scores_KB_davinci[4], ddof=1)], fmt='o', label=\"KB score, davinci\", color=c1)\n",
    "plt.errorbar([2,4,6,8,12], [np.mean(scores_em_davinci[0]), np.mean(scores_em_davinci[1]), np.mean(scores_em_davinci[2]), np.mean(scores_em_davinci[3]), np.mean(scores_em_davinci[4])], yerr=[np.std(scores_em_davinci[0], ddof=1), np.std(scores_em_davinci[1], ddof=1), np.std(scores_em_davinci[2], ddof=1), np.std(scores_em_davinci[3], ddof=1), np.std(scores_em_davinci[4], ddof=1)], fmt='o', label=\"Embedding score, davinci\", color=c2)\n",
    "plt.errorbar([2,4,6,8,12], [np.mean(scores_KB_curie[0]), np.mean(scores_KB_curie[1]), np.mean(scores_KB_curie[2]), np.mean(scores_KB_curie[3]), np.mean(scores_KB_curie[4])], yerr=[np.std(scores_KB_curie[0], ddof=1), np.std(scores_KB_curie[1], ddof=1), np.std(scores_KB_curie[2], ddof=1), np.std(scores_KB_curie[3], ddof=1), np.std(scores_KB_curie[4], ddof=1)], fmt='s', label=\"KB score, curie\", color=c3)\n",
    "plt.errorbar([2,4,6,8,12], [np.mean(scores_em_curie[0]), np.mean(scores_em_curie[1]), np.mean(scores_em_curie[2]), np.mean(scores_em_curie[3]), np.mean(scores_em_curie[4])], yerr=[np.std(scores_em_curie[0], ddof=1), np.std(scores_em_curie[1], ddof=1), np.std(scores_em_curie[2], ddof=1), np.std(scores_em_curie[3], ddof=1), np.std(scores_em_curie[4], ddof=1)], fmt='s', label=\"Embedding score, curie\", color=c4)\n",
    "# make standard deviation thicker\n",
    "plt.fill_between([2,4,6,8,12], [np.mean(scores_KB_davinci[0])-np.std(scores_KB_davinci[0], ddof=1), np.mean(scores_KB_davinci[1])-np.std(scores_KB_davinci[1], ddof=1), np.mean(scores_KB_davinci[2])-np.std(scores_KB_davinci[2], ddof=1), np.mean(scores_KB_davinci[3])-np.std(scores_KB_davinci[3], ddof=1), np.mean(scores_KB_davinci[4])-np.std(scores_KB_davinci[4], ddof=1)], [np.mean(scores_KB_davinci[0])+np.std(scores_KB_davinci[0], ddof=1), np.mean(scores_KB_davinci[1])+np.std(scores_KB_davinci[1], ddof=1), np.mean(scores_KB_davinci[2])+np.std(scores_KB_davinci[2], ddof=1), np.mean(scores_KB_davinci[3])+np.std(scores_KB_davinci[3], ddof=1), np.mean(scores_KB_davinci[4])+np.std(scores_KB_davinci[4], ddof=1)], alpha=0.2, color=c1)\n",
    "plt.fill_between([2,4,6,8,12], [np.mean(scores_em_davinci[0])-np.std(scores_em_davinci[0], ddof=1), np.mean(scores_em_davinci[1])-np.std(scores_em_davinci[1], ddof=1), np.mean(scores_em_davinci[2])-np.std(scores_em_davinci[2], ddof=1), np.mean(scores_em_davinci[3])-np.std(scores_em_davinci[3], ddof=1), np.mean(scores_em_davinci[4])-np.std(scores_em_davinci[4], ddof=1)], [np.mean(scores_em_davinci[0])+np.std(scores_em_davinci[0], ddof=1), np.mean(scores_em_davinci[1])+np.std(scores_em_davinci[1], ddof=1), np.mean(scores_em_davinci[2])+np.std(scores_em_davinci[2], ddof=1), np.mean(scores_em_davinci[3])+np.std(scores_em_davinci[3], ddof=1), np.mean(scores_em_davinci[4])+np.std(scores_em_davinci[4], ddof=1)], alpha=0.2, color=c2)\n",
    "plt.fill_between([2,4,6,8,12], [np.mean(scores_KB_curie[0])-np.std(scores_KB_curie[0], ddof=1), np.mean(scores_KB_curie[1])-np.std(scores_KB_curie[1], ddof=1), np.mean(scores_KB_curie[2])-np.std(scores_KB_curie[2], ddof=1), np.mean(scores_KB_curie[3])-np.std(scores_KB_curie[3], ddof=1), np.mean(scores_KB_curie[4])-np.std(scores_KB_curie[4], ddof=1)], [np.mean(scores_KB_curie[0])+np.std(scores_KB_curie[0], ddof=1), np.mean(scores_KB_curie[1])+np.std(scores_KB_curie[1], ddof=1), np.mean(scores_KB_curie[2])+np.std(scores_KB_curie[2], ddof=1), np.mean(scores_KB_curie[3])+np.std(scores_KB_curie[3], ddof=1), np.mean(scores_KB_curie[4])+np.std(scores_KB_curie[4], ddof=1)], alpha=0.2, color=c3)\n",
    "plt.fill_between([2,4,6,8,12], [np.mean(scores_em_curie[0])-np.std(scores_em_curie[0], ddof=1), np.mean(scores_em_curie[1])-np.std(scores_em_curie[1], ddof=1), np.mean(scores_em_curie[2])-np.std(scores_em_curie[2], ddof=1), np.mean(scores_em_curie[3])-np.std(scores_em_curie[3], ddof=1), np.mean(scores_em_curie[4])-np.std(scores_em_curie[4], ddof=1)], [np.mean(scores_em_curie[0])+np.std(scores_em_curie[0], ddof=1), np.mean(scores_em_curie[1])+np.std(scores_em_curie[1], ddof=1), np.mean(scores_em_curie[2])+np.std(scores_em_curie[2], ddof=1), np.mean(scores_em_curie[3])+np.std(scores_em_curie[3], ddof=1), np.mean(scores_em_curie[4])+np.std(scores_em_curie[4], ddof=1)], alpha=0.2, color=c4)\n",
    "plt.xlabel(\"Number of Few-shot Training Samples\")\n",
    "plt.ylabel(\"Score\")\n",
    "# connect error bars with lines\n",
    "plt.plot([2,4,6,8,12], [np.mean(scores_KB_davinci[0]), np.mean(scores_KB_davinci[1]), np.mean(scores_KB_davinci[2]), np.mean(scores_KB_davinci[3]), np.mean(scores_KB_davinci[4])], 'o-', color=c1)\n",
    "plt.plot([2,4,6,8,12], [np.mean(scores_em_davinci[0]), np.mean(scores_em_davinci[1]), np.mean(scores_em_davinci[2]), np.mean(scores_em_davinci[3]), np.mean(scores_em_davinci[4])], 'o-', color=c2)\n",
    "plt.plot([2,4,6,8,12], [np.mean(scores_KB_curie[0]), np.mean(scores_KB_curie[1]), np.mean(scores_KB_curie[2]), np.mean(scores_KB_curie[3]), np.mean(scores_KB_curie[4])], 's-', color=c3)\n",
    "plt.plot([2,4,6,8,12], [np.mean(scores_em_curie[0]), np.mean(scores_em_curie[1]), np.mean(scores_em_curie[2]), np.mean(scores_em_curie[3]), np.mean(scores_em_curie[4])], 's-', color=c4)\n",
    "\n",
    "\n",
    "\n",
    "# make star for single best score and set to foreground\n",
    "plt.plot([12], 0.5531443181819444, '*', color=c1, markersize=25, label=\"Highest KB score\")\n",
    "plt.plot([12], 0.5047760359942913, '*', color=c2, markersize=25, label=\"Highest embedding score\", zorder=10)\n",
    "plt.legend()\n",
    "plt.grid(color='lightgray', linestyle='-', linewidth=0.5)\n",
    "# move legend outside of plot\n",
    "plt.legend(bbox_to_anchor=(1.01, 1), loc='upper left', borderaxespad=0., fontsize=13, frameon=False, handletextpad=0.4, labelspacing=1.8)\n",
    "# increase spacing of legend\n",
    "# make y axis end at 0.6\n",
    "plt.ylim(0.2, 0.575)\n",
    "# make x axis end at 12\n",
    "plt.xlim(2, 12.1)\n",
    "# set font to Times New Roman\n",
    "plt.rcParams['font.family'] = 'Times New Roman'\n",
    "plt.rcParams['font.size'] = 16\n",
    "# save as eps\n",
    "plt.savefig('Images/scores.pdf', format='pdf', bbox_inches='tight')\n",
    "\n",
    "\n",
    "\n"
   ]
  },
  {
   "cell_type": "markdown",
   "metadata": {},
   "source": [
    "# Test Set Evaluation"
   ]
  },
  {
   "cell_type": "code",
   "execution_count": 53,
   "metadata": {},
   "outputs": [
    {
     "name": "stdout",
     "output_type": "stream",
     "text": [
      "Best config:  {'model': 'text-davinci-002', 'eval_set': 'valid', 'extra_def': False, 'temperature': 0, 'train_indices': [0, 10, 20, 30, 40, 50, 60, 70, 80, 90, 100, -1], 'train_samples': 12}\n"
     ]
    }
   ],
   "source": [
    "# load scores from wandb\n",
    "run_configs=[]\n",
    "scores_em = []\n",
    "scores_KB = []\n",
    "for run in wandb.Api().runs(\"YOUR_USERNAME/YOUR_PROJECT\"): # replace with your username and project name\n",
    "    scores_em.append(run.summary[\"mean_em\"])\n",
    "    scores_KB.append(run.summary[\"mean_KB\"])\n",
    "    run_configs.append(run.config)\n",
    "# return config with highest average of em and KB scores\n",
    "best_config = run_configs[np.argmax(np.array(scores_em)+np.array(scores_KB))]\n",
    "print(\"Best config: \", best_config)\n"
   ]
  },
  {
   "cell_type": "code",
   "execution_count": 76,
   "metadata": {},
   "outputs": [],
   "source": [
    "# generate completions on test set with best config from validation\n",
    "df_test_results = get_GPT3_completions(best_config[\"train_indices\"], eval_set=\"test\", temperature=best_config['temperature'], model=best_config['model'], result_samples=999, extra_def=best_config['extra_def'])\n",
    "df_LCC_results = get_GPT3_completions(best_config[\"train_indices\"], eval_set=\"LCC\", temperature=best_config['temperature'], model=best_config['model'], result_samples=999, extra_def=best_config['extra_def'])\n",
    "df_LCC_results_es = get_GPT3_completions(best_config[\"train_indices\"], eval_set=\"LCC_es\", temperature=best_config['temperature'], model=best_config['model'], result_samples=999, extra_def=best_config['extra_def'])\n",
    "# evaluate\n",
    "mean_em, std_em, mean_KB, std_KB, df_test_results = evaluate(df_test_results)\n",
    "print(\"Test set performance: \", str(mean_em)+\"(+-\"+str(std_em)+\")\", str(mean_KB)+\"(+-\"+str(std_KB)+\")\")\n",
    "mean_em, std_em, mean_KB, std_KB, df_LCC_results = evaluate(df_LCC_results)\n",
    "print(\"LCC set performance: \", str(mean_em)+\"(+-\"+str(std_em)+\")\", str(mean_KB)+\"(+-\"+str(std_KB)+\")\")\n",
    "mean_em, std_em, mean_KB, std_KB, df_LCC_results_es = evaluate(df_LCC_results_es)\n",
    "print(\"LCC set performance: \", str(mean_em)+\"(+-\"+str(std_em)+\")\", str(mean_KB)+\"(+-\"+str(std_KB)+\")\")\n",
    "# save results to csv\n",
    "df_test_results.to_csv(\"Test Results/Source Completion/Few Shot/best_config_test.csv\")\n",
    "df_LCC_results.to_csv(\"Test Results/Source Completion/Few Shot/best_config_LCC.csv\")\n",
    "df_LCC_results_es.to_csv(\"Test Results/Source Completion/Few Shot/best_config_LCC_es.csv\")"
   ]
  },
  {
   "cell_type": "code",
   "execution_count": 165,
   "metadata": {},
   "outputs": [
    {
     "data": {
      "text/html": [
       "<div>\n",
       "<style scoped>\n",
       "    .dataframe tbody tr th:only-of-type {\n",
       "        vertical-align: middle;\n",
       "    }\n",
       "\n",
       "    .dataframe tbody tr th {\n",
       "        vertical-align: top;\n",
       "    }\n",
       "\n",
       "    .dataframe thead th {\n",
       "        text-align: right;\n",
       "    }\n",
       "</style>\n",
       "<table border=\"1\" class=\"dataframe\">\n",
       "  <thead>\n",
       "    <tr style=\"text-align: right;\">\n",
       "      <th></th>\n",
       "      <th>Target Domain</th>\n",
       "      <th>Source Domain</th>\n",
       "      <th>GPT3 Completion</th>\n",
       "      <th>Example</th>\n",
       "      <th>embedding_sim</th>\n",
       "      <th>KB_similarity</th>\n",
       "      <th>Annotator 1 (L)</th>\n",
       "      <th>Comments (L)</th>\n",
       "      <th>Annotator 2 (D)</th>\n",
       "      <th>Comments (D)</th>\n",
       "      <th>Final Annotation</th>\n",
       "      <th>Comments</th>\n",
       "      <th>Error Code</th>\n",
       "      <th>Unnamed: 14</th>\n",
       "    </tr>\n",
       "  </thead>\n",
       "  <tbody>\n",
       "    <tr>\n",
       "      <th>0</th>\n",
       "      <td>intoxication</td>\n",
       "      <td>destruction</td>\n",
       "      <td>shipwreck</td>\n",
       "      <td>He was wrecked.</td>\n",
       "      <td>0.10</td>\n",
       "      <td>0.35</td>\n",
       "      <td>1</td>\n",
       "      <td>unsure (too specific)</td>\n",
       "      <td>1</td>\n",
       "      <td>NaN</td>\n",
       "      <td>1</td>\n",
       "      <td>NaN</td>\n",
       "      <td>NaN</td>\n",
       "      <td>NaN</td>\n",
       "    </tr>\n",
       "    <tr>\n",
       "      <th>1</th>\n",
       "      <td>intoxication</td>\n",
       "      <td>destruction</td>\n",
       "      <td>violence</td>\n",
       "      <td>He got thrashed.</td>\n",
       "      <td>0.37</td>\n",
       "      <td>0.33</td>\n",
       "      <td>1</td>\n",
       "      <td>NaN</td>\n",
       "      <td>1</td>\n",
       "      <td>NaN</td>\n",
       "      <td>1</td>\n",
       "      <td>NaN</td>\n",
       "      <td>NaN</td>\n",
       "      <td>NaN</td>\n",
       "    </tr>\n",
       "    <tr>\n",
       "      <th>2</th>\n",
       "      <td>amount</td>\n",
       "      <td>size</td>\n",
       "      <td>breakable object</td>\n",
       "      <td>Can you break a twenty?</td>\n",
       "      <td>0.16</td>\n",
       "      <td>0.31</td>\n",
       "      <td>1</td>\n",
       "      <td>NaN</td>\n",
       "      <td>1</td>\n",
       "      <td>NaN</td>\n",
       "      <td>1</td>\n",
       "      <td>NaN</td>\n",
       "      <td>NaN</td>\n",
       "      <td>NaN</td>\n",
       "    </tr>\n",
       "    <tr>\n",
       "      <th>3</th>\n",
       "      <td>amount</td>\n",
       "      <td>size</td>\n",
       "      <td>size</td>\n",
       "      <td>I'm not a big eater.</td>\n",
       "      <td>1.00</td>\n",
       "      <td>1.00</td>\n",
       "      <td>1</td>\n",
       "      <td>NaN</td>\n",
       "      <td>1</td>\n",
       "      <td>NaN</td>\n",
       "      <td>1</td>\n",
       "      <td>NaN</td>\n",
       "      <td>NaN</td>\n",
       "      <td>NaN</td>\n",
       "    </tr>\n",
       "    <tr>\n",
       "      <th>4</th>\n",
       "      <td>beliefs</td>\n",
       "      <td>plants</td>\n",
       "      <td>seeds</td>\n",
       "      <td>I planted the belief in his mind.</td>\n",
       "      <td>0.40</td>\n",
       "      <td>0.64</td>\n",
       "      <td>1</td>\n",
       "      <td>NaN</td>\n",
       "      <td>1</td>\n",
       "      <td>NaN</td>\n",
       "      <td>1</td>\n",
       "      <td>NaN</td>\n",
       "      <td>NaN</td>\n",
       "      <td>NaN</td>\n",
       "    </tr>\n",
       "  </tbody>\n",
       "</table>\n",
       "</div>"
      ],
      "text/plain": [
       "  Target Domain Source Domain   GPT3 Completion  \\\n",
       "0  intoxication   destruction         shipwreck   \n",
       "1  intoxication   destruction          violence   \n",
       "2        amount          size  breakable object   \n",
       "3        amount          size              size   \n",
       "4       beliefs        plants             seeds   \n",
       "\n",
       "                             Example  embedding_sim  KB_similarity  \\\n",
       "0                    He was wrecked.           0.10           0.35   \n",
       "1                   He got thrashed.           0.37           0.33   \n",
       "2            Can you break a twenty?           0.16           0.31   \n",
       "3               I'm not a big eater.           1.00           1.00   \n",
       "4  I planted the belief in his mind.           0.40           0.64   \n",
       "\n",
       "   Annotator 1 (L)           Comments (L)  Annotator 2 (D) Comments (D)  \\\n",
       "0                1  unsure (too specific)                1          NaN   \n",
       "1                1                    NaN                1          NaN   \n",
       "2                1                    NaN                1          NaN   \n",
       "3                1                    NaN                1          NaN   \n",
       "4                1                    NaN                1          NaN   \n",
       "\n",
       "   Final Annotation  Comments Error Code Unnamed: 14  \n",
       "0                 1       NaN        NaN         NaN  \n",
       "1                 1       NaN        NaN         NaN  \n",
       "2                 1       NaN        NaN         NaN  \n",
       "3                 1       NaN        NaN         NaN  \n",
       "4                 1       NaN        NaN         NaN  "
      ]
     },
     "execution_count": 165,
     "metadata": {},
     "output_type": "execute_result"
    }
   ],
   "source": [
    "annotated_test_df = pd.read_csv(\"Test Results/Source Completion/Few Shot/MetaphorList_annotated_test.csv\", index_col=0)\n",
    "annotated_LCC_df = pd.read_csv(\"Test Results/Source Completion/Few Shot/LCC-EN_annotated_test.csv\", index_col=0 )\n",
    "annotated_test_df.head()\n"
   ]
  },
  {
   "cell_type": "code",
   "execution_count": 166,
   "metadata": {},
   "outputs": [],
   "source": [
    "# split annotated_test_df into two dataframes, one for samples where source domain is non metaphoric and the others\n",
    "annotated_test_df_non_metaphoric = annotated_test_df[annotated_test_df[\"Source Domain\"] == \"not metaphoric\"]\n",
    "annotated_test_df_metaphoric = annotated_test_df[annotated_test_df[\"Source Domain\"] != \"not metaphoric\"]\n"
   ]
  },
  {
   "cell_type": "code",
   "execution_count": 177,
   "metadata": {},
   "outputs": [
    {
     "name": "stdout",
     "output_type": "stream",
     "text": [
      "Cohen's kappa for non metaphoric samples:  0.8901734104046243\n",
      "Cohen's kappa for Metaphor List samples:  0.5487752470992694\n",
      "Cohen's kappa for LCC samples:  0.4458952423833108\n",
      "\n",
      "Agreement in percent for non metaphoric samples:  0.9473684210526315\n",
      "Agreement in percent for Metaphor List samples:  0.8755555555555555\n",
      "Agreement in percent for LCC samples:  0.7253521126760564\n",
      "\n",
      "Average agreement in percent:  0.8494253630947478\n",
      "Average Cohen's kappa:  0.6282812999624015\n",
      "\n",
      "Weighted average agreement in percent:  0.7973484848484849\n",
      "Weighted average Cohen's kappa:  0.5057234360452344\n"
     ]
    }
   ],
   "source": [
    "# compute cohen's kappa between Annotation 1 and Annotation 2\n",
    "from sklearn.metrics import cohen_kappa_score\n",
    "ck_non=cohen_kappa_score(annotated_test_df_non_metaphoric[\"Annotator 1 (L)\"], annotated_test_df_non_metaphoric[\"Annotator 2 (D)\"])\n",
    "print(\"Cohen's kappa for non metaphoric samples: \", ck_non)\n",
    "ck_met=cohen_kappa_score(annotated_test_df_metaphoric[\"Annotator 1 (L)\"], annotated_test_df_metaphoric[\"Annotator 2 (D)\"])\n",
    "print(\"Cohen's kappa for Metaphor List samples: \", ck_met)\n",
    "ck_LCC=cohen_kappa_score(annotated_LCC_df[\"Annotator 1 (L)\"], annotated_LCC_df[\"Annotator 2 (D)\"])\n",
    "print(\"Cohen's kappa for LCC samples: \", ck_LCC)\n",
    "print()\n",
    "\n",
    "# compute agreement as percentage for non metaphoric samples\n",
    "agreement_non = np.sum(annotated_test_df_non_metaphoric[\"Annotator 1 (L)\"] == annotated_test_df_non_metaphoric[\"Annotator 2 (D)\"])/len(annotated_test_df_non_metaphoric)\n",
    "print(\"Agreement in percent for non metaphoric samples: \", agreement_non)\n",
    "# compute agreement as percentage for metaphor list samples\n",
    "agreement_met = np.sum(annotated_test_df_metaphoric[\"Annotator 1 (L)\"] == annotated_test_df_metaphoric[\"Annotator 2 (D)\"])/len(annotated_test_df_metaphoric)\n",
    "print(\"Agreement in percent for Metaphor List samples: \", agreement_met)\n",
    "# compute agreement as percentage for LCC samples\n",
    "agreement_LCC = np.sum(annotated_LCC_df[\"Annotator 1 (L)\"] == annotated_LCC_df[\"Annotator 2 (D)\"])/len(annotated_LCC_df)\n",
    "print(\"Agreement in percent for LCC samples: \", agreement_LCC)\n",
    "\n",
    "# average agreement for all samples\n",
    "print()\n",
    "print(\"Average agreement in percent: \", (agreement_non+agreement_met+agreement_LCC)/3)\n",
    "print(\"Average Cohen's kappa: \", (ck_non+ck_met+ck_LCC)/3)\n",
    "# weighted average agreement for all samples\n",
    "print()\n",
    "print(\"Weighted average agreement in percent: \", (agreement_non*len(annotated_test_df_non_metaphoric)+agreement_met*len(annotated_test_df_metaphoric)+agreement_LCC*len(annotated_LCC_df))/(len(annotated_test_df_non_metaphoric)+len(annotated_test_df_metaphoric)+len(annotated_LCC_df)))\n",
    "print(\"Weighted average Cohen's kappa: \", (ck_non*len(annotated_test_df_non_metaphoric)+ck_met*len(annotated_test_df_metaphoric)+ck_LCC*len(annotated_LCC_df))/(len(annotated_test_df_non_metaphoric)+len(annotated_test_df_metaphoric)+len(annotated_LCC_df)))\n"
   ]
  },
  {
   "cell_type": "code",
   "execution_count": 172,
   "metadata": {},
   "outputs": [],
   "source": [
    "# remove samples where annotators \"Final annotation\" == 2 \n",
    "annotated_test_df_non_metaphoric = annotated_test_df_non_metaphoric[annotated_test_df_non_metaphoric[\"Final Annotation\"] != 2]\n",
    "annotated_test_df_metaphoric = annotated_test_df_metaphoric[annotated_test_df_metaphoric[\"Final Annotation\"] != 2]\n",
    "annotated_LCC_df = annotated_LCC_df[annotated_LCC_df[\"Final Annotation\"] != 2]"
   ]
  },
  {
   "cell_type": "code",
   "execution_count": 175,
   "metadata": {},
   "outputs": [
    {
     "name": "stdout",
     "output_type": "stream",
     "text": [
      "Accuracy based on final annotation non metaphoric:  0.42105263157894735\n",
      "Accuracy based on final annotation Metaphor List:  0.8133333333333334\n",
      "Accuracy based on final annotation LCC:  0.5373665480427047\n"
     ]
    }
   ],
   "source": [
    "# print accuracy based on final annotation\n",
    "print(\"Accuracy based on final annotation non metaphoric: \", sum(annotated_test_df_non_metaphoric[\"Final Annotation\"])/len(annotated_test_df_non_metaphoric))\n",
    "print(\"Accuracy based on final annotation Metaphor List: \", sum(annotated_test_df_metaphoric[\"Final Annotation\"])/len(annotated_test_df_metaphoric))\n",
    "print(\"Accuracy based on final annotation LCC: \", sum(annotated_LCC_df[\"Final Annotation\"])/len(annotated_LCC_df))"
   ]
  },
  {
   "cell_type": "code",
   "execution_count": 176,
   "metadata": {},
   "outputs": [
    {
     "name": "stdout",
     "output_type": "stream",
     "text": [
      "Spearman correlation KB non metaphoric:  SpearmanrResult(correlation=0.8955910525085282, pvalue=2.202100379409556e-07)\n",
      "Spearman correlation KB Metaphor List:  SpearmanrResult(correlation=0.34432716202421004, pvalue=1.1639251248950027e-07)\n",
      "Spearman correlation EM non metaphoric:  SpearmanrResult(correlation=0.8802224000709448, pvalue=6.703159561855441e-07)\n",
      "Spearman correlation EM Metaphor List:  SpearmanrResult(correlation=0.3864533413655767, pvalue=1.9827552286916033e-09)\n",
      "Spearman correlation KB all:  SpearmanrResult(correlation=0.4319537445637061, pvalue=1.6388503310107196e-12)\n",
      "Spearman correlation EM all:  SpearmanrResult(correlation=0.40255186337112375, pvalue=6.390186126270552e-11)\n"
     ]
    }
   ],
   "source": [
    "# compute spearman correlation between KB score and final annotation\n",
    "from scipy.stats import spearmanr\n",
    "sp_non_met=spearmanr(annotated_test_df_non_metaphoric[\"KB_similarity\"], annotated_test_df_non_metaphoric[\"Final Annotation\"])\n",
    "sp_MetList=spearmanr(annotated_test_df_metaphoric[\"KB_similarity\"], annotated_test_df_metaphoric[\"Final Annotation\"])\n",
    "print(\"Spearman correlation KB non metaphoric: \", sp_non_met)\n",
    "print(\"Spearman correlation KB Metaphor List: \", sp_MetList)\n",
    "# same for embedding_sim\n",
    "sp_non_met=spearmanr(annotated_test_df_non_metaphoric[\"embedding_sim\"], annotated_test_df_non_metaphoric[\"Final Annotation\"])\n",
    "sp_MetList=spearmanr(annotated_test_df_metaphoric[\"embedding_sim\"], annotated_test_df_metaphoric[\"Final Annotation\"])\n",
    "print(\"Spearman correlation EM non metaphoric: \", sp_non_met)\n",
    "print(\"Spearman correlation EM Metaphor List: \", sp_MetList)\n",
    "\n",
    "# merge annotated_test_df_non_metaphoric and annotated_test_df_metaphoric and compute spearman correlation between KB score and final annotation\n",
    "annotated_test_df_all = pd.concat([annotated_test_df_non_metaphoric, annotated_test_df_metaphoric])\n",
    "sp_all=spearmanr(annotated_test_df_all[\"KB_similarity\"], annotated_test_df_all[\"Final Annotation\"])\n",
    "print(\"Spearman correlation KB all: \", sp_all)\n",
    "# same for embedding_sim\n",
    "sp_all=spearmanr(annotated_test_df_all[\"embedding_sim\"], annotated_test_df_all[\"Final Annotation\"])\n",
    "print(\"Spearman correlation EM all: \", sp_all)\n"
   ]
  },
  {
   "cell_type": "markdown",
   "metadata": {},
   "source": [
    "# Finetuning"
   ]
  },
  {
   "cell_type": "code",
   "execution_count": 129,
   "metadata": {},
   "outputs": [],
   "source": [
    "def create_finetuning_dataset(raw_prompts, raw_completions, name):\n",
    "    prompts = []\n",
    "    completions = []\n",
    "    for i in range(len(raw_prompts)):\n",
    "        prompts.append(raw_prompts[i][71:])\n",
    "        completions.append(\" \"+raw_completions[i]+\" END\")\n",
    "    df = pd.DataFrame({'prompt': prompts, 'completion': completions})\n",
    "    df.to_csv(name, index=False)\n",
    "\n",
    "create_finetuning_dataset(list_of_source_prompts_train, list_of_source_completions_train, \"Finetuning Data/source-finetuning-train.csv\")\n",
    "create_finetuning_dataset(list_of_source_prompts_test, list_of_source_completions_test, \"Finetuning Data/source-finetuning-test.csv\")\n",
    "create_finetuning_dataset(list_of_source_prompts_valid, list_of_source_completions_valid, \"Finetuning Data/source-finetuning-valid.csv\")"
   ]
  },
  {
   "cell_type": "code",
   "execution_count": 136,
   "metadata": {},
   "outputs": [],
   "source": [
    "# have only one train example from list_of_source_completions_train per unique completion\n",
    "unique_completions = []\n",
    "unique_prompts = []\n",
    "for i in range(len(list_of_source_completions_train)):\n",
    "    if list_of_source_completions_train[i] not in unique_completions:\n",
    "        unique_completions.append(list_of_source_completions_train[i])\n",
    "        unique_prompts.append(list_of_source_prompts_train[i])\n",
    "create_finetuning_dataset(unique_prompts, unique_completions, \"Finetuning Data/source-finetuning-train-unique.csv\")\n",
    "        \n"
   ]
  },
  {
   "cell_type": "code",
   "execution_count": 138,
   "metadata": {},
   "outputs": [
    {
     "name": "stdout",
     "output_type": "stream",
     "text": [
      "34 132\n"
     ]
    }
   ],
   "source": [
    "print(len(unique_prompts), len(list_of_source_completions_train))"
   ]
  },
  {
   "cell_type": "markdown",
   "metadata": {},
   "source": [
    "To create the required json files for finetuning run the following command in the console:\n",
    "\n",
    "    openai tools fine_tunes.prepare_data -f <LOCAL_FILE.csv>\n",
    "\n",
    "Afterwards create finetuned model with:\n",
    "\n",
    "    export OPENAI_API_KEY=<YOUR_API_KEY>\n",
    "\n",
    "    openai api fine_tunes.create -t <TRAIN_FILE_ID_OR_PATH> -m davinci --suffix \"<name>\""
   ]
  },
  {
   "cell_type": "code",
   "execution_count": 105,
   "metadata": {},
   "outputs": [],
   "source": [
    "def get_GPT3_completions_finetune(test, temperature, model, result_samples):\n",
    "    if test:\n",
    "        data=pd.read_csv(\"Finetuning Data/source-finetuning-test.csv\")\n",
    "    else:\n",
    "        data=pd.read_csv(\"Finetuning Data/source-finetuning-valid.csv\")\n",
    "    \n",
    "    prompts = data['prompt']\n",
    "    completions = data['completion']\n",
    "\n",
    "    GPT3_completions=[]\n",
    "    for p in prompts[:result_samples]:\n",
    "        c = openai.Completion.create(\n",
    "                model=model,\n",
    "                prompt=p,\n",
    "                max_tokens=14,\n",
    "                temperature=temperature,\n",
    "                stop=[\" END\"]\n",
    "\n",
    "            )\n",
    "        GPT3_completions.append(c)\n",
    "        # wait to avoid rate limit\n",
    "        time.sleep(3)\n",
    "\n",
    "    df_results = data.copy().reset_index()\n",
    "\n",
    "    # append GPT3_completions to df_results [trainings_units:len(GPT3_completions)]\n",
    "    for i in range(len(GPT3_completions)):\n",
    "        gpt3_completion = GPT3_completions[i].choices[0].text\n",
    "        # strip everything after the first newline\n",
    "        #gpt3_completion = gpt3_completion.split(\"\\n\")[0]\n",
    "        df_results.loc[i, 'GPT3 Completion'] = gpt3_completion\n",
    "    return df_results[:len(GPT3_completions)]"
   ]
  },
  {
   "cell_type": "code",
   "execution_count": null,
   "metadata": {},
   "outputs": [],
   "source": [
    "model = \"YOUR_FINETUNED_MODEL_NAME\" # you will receive this name after finetuning as described above \n",
    "\n",
    "temperature=0\n",
    "result_samples=999\n",
    "test=False\n",
    "if \"unique\" in model:\n",
    "    train_samples = 34\n",
    "else:\n",
    "    train_samples = 132\n",
    "\n",
    "run_name=\"Finetuned_temp-\"+str(temperature)+model\n",
    "if test:\n",
    "    run_name=run_name+\"_test\"\n",
    "else:\n",
    "    run_name=run_name+\"_valid\"\n",
    "\n",
    "\n",
    "df_results = get_GPT3_completions_finetune(test, temperature, model, result_samples)\n",
    "\n",
    "\n",
    "\n",
    "\n",
    "# evaluate\n",
    "mean_em, std_em, mean_KB, std_KB, df_results = evaluate(df_results, \"Finetuned\")\n",
    "print(\"Performance: \", str(mean_em)+\"(+-\"+str(std_em)+\")\", str(mean_KB)+\"(+-\"+str(std_KB)+\")\")\n",
    "run_name=run_name+\"_em-\"+str(round(mean_em,3))+\"_KB-\"+str(round(mean_KB,3))\n",
    "\n",
    "config={\n",
    "    \"model\": model,\n",
    "    \"temperature\": temperature,\n",
    "    \"train_indices\": \"finetuned\",\n",
    "    \"train_samples\": train_samples,\n",
    "    \"extra_def\": False,\n",
    "    \"eval_set\": \"valid\",\n",
    "}\n",
    "\n",
    "run_name.replace(\"/\", \"-\")\n",
    "\n",
    "with wandb.init(project=\"Metaphors\", config=config, group=\"finetuned\"):\n",
    "    wandb.log({\"mean_em\": mean_em, \"std_em\": std_em, \"mean_KB\": mean_KB, \"std_KB\": std_KB})\n",
    "\n",
    "df_results.to_csv(\"Validation Results/Source Completion/Finetuned/\"+run_name+\".csv\")\n",
    "df_results"
   ]
  },
  {
   "cell_type": "code",
   "execution_count": 133,
   "metadata": {},
   "outputs": [
    {
     "name": "stdout",
     "output_type": "stream",
     "text": [
      "unique source domains\n",
      "unique: 78\n",
      "full: 50\n",
      "best: 74\n",
      "overlap with train\n",
      "unique: 13\n",
      "full: 18\n",
      "best: 7\n"
     ]
    }
   ],
   "source": [
    "# look at diversity of completions\n",
    "print(\"unique source domains\")\n",
    "df_results_finetuneunique = pd.read_csv(\"Validation Results/Source Completion/Finetuned/Finetuned_temp-0davinci-ft-personal-unique34samples-2022-10-30-12-23-49_valid_em-0.303_KB-0.386.csv\")\n",
    "print(\"unique:\", len(df_results_finetuneunique[\"GPT3 Completion\"].unique()))\n",
    "df_results_finetunefull = pd.read_csv(\"Validation Results/Source Completion/Finetuned/Finetuned_temp-0davinci-ft-personal-fulltrain-2022-11-03-15-21-24_valid_em-0.413_KB-0.513.csv\")\n",
    "print(\"full:\", len(df_results_finetunefull[\"GPT3 Completion\"].unique()))\n",
    "df_results_best = pd.read_csv(\"Validation Results/Source Completion/Few Shot/valid_davinci-002_temp-0_[0, 10, 20, 30, 40, 50, 60, 70, 80, 90, 100, -1]_(12-train-samples)_def-False_embscore-5_KBscore-55.csv\")\n",
    "print(\"best:\", len(df_results_best[\"GPT3 Completion\"].unique()))\n",
    "# overlap between GPT3 completions of finetuned models and train_df \"Source Domain\"\n",
    "predicted_domains_full = set(df_results_finetunefull[\"GPT3 Completion\"])\n",
    "predicted_domains_unique = set(df_results_finetuneunique[\"GPT3 Completion\"])\n",
    "predicted_domains_best = set(df_results_best[\"GPT3 Completion\"])\n",
    "# remove END token\n",
    "predicted_domains_full = set([x.replace(\" END\", \"\").strip() for x in predicted_domains_full])\n",
    "predicted_domains_unique = set([x.replace(\" END\", \"\").strip() for x in predicted_domains_unique])\n",
    "predicted_domains_best = set([x.replace(\" END\", \"\").strip() for x in predicted_domains_best])\n",
    "print(\"overlap with train\")\n",
    "print(\"unique:\", len(predicted_domains_unique.intersection(set(train_df[\"Source Domain\"]))))\n",
    "print(\"full:\", len(predicted_domains_full.intersection(set(train_df[\"Source Domain\"]))))\n",
    "print(\"best:\", len(predicted_domains_best.intersection(set(train_df[\"Source Domain\"]))))\n",
    "\n"
   ]
  },
  {
   "cell_type": "code",
   "execution_count": 132,
   "metadata": {},
   "outputs": [
    {
     "data": {
      "text/plain": [
       "{'advantage',\n",
       " 'adversary',\n",
       " 'age',\n",
       " 'alive',\n",
       " 'animal',\n",
       " 'balloon',\n",
       " 'beings',\n",
       " 'belief',\n",
       " 'bottom',\n",
       " 'center',\n",
       " 'clarity',\n",
       " 'commodities',\n",
       " 'competition',\n",
       " 'container',\n",
       " 'darkness',\n",
       " 'defeat',\n",
       " 'end',\n",
       " 'energy',\n",
       " 'existence',\n",
       " 'flow',\n",
       " 'force',\n",
       " 'heat',\n",
       " 'injury',\n",
       " 'interpretation',\n",
       " 'length',\n",
       " 'light',\n",
       " 'line',\n",
       " 'machines',\n",
       " 'money',\n",
       " 'motion',\n",
       " 'not metaphoric',\n",
       " 'palm',\n",
       " 'part-whole',\n",
       " 'path',\n",
       " 'possessions',\n",
       " 'predators',\n",
       " 'pull',\n",
       " 'scale',\n",
       " 'sight',\n",
       " 'size',\n",
       " 'space',\n",
       " 'speech',\n",
       " 'stability',\n",
       " 'substance',\n",
       " 'sum',\n",
       " 'thirst',\n",
       " 'time',\n",
       " 'weapons',\n",
       " 'weight',\n",
       " 'wheel'}"
      ]
     },
     "execution_count": 132,
     "metadata": {},
     "output_type": "execute_result"
    }
   ],
   "source": [
    "predicted_domains_full"
   ]
  },
  {
   "attachments": {},
   "cell_type": "markdown",
   "metadata": {},
   "source": [
    "# Model Application Example"
   ]
  },
  {
   "cell_type": "code",
   "execution_count": 109,
   "metadata": {},
   "outputs": [
    {
     "name": "stdout",
     "output_type": "stream",
     "text": [
      "Downloading and preparing dataset the-reddit-covid-dataset/posts to /Users/lennartwachowiak/.cache/huggingface/datasets/SocialGrep___the-reddit-covid-dataset/posts/1.0.0/35698a78e6ebe9f3da4d0d354139c89d8097b4498816cab987639ad00dbe4a92...\n"
     ]
    },
    {
     "name": "stderr",
     "output_type": "stream",
     "text": [
      "Downloading data: 100%|██████████| 580M/580M [01:01<00:00, 9.36MB/s]\n",
      "Downloading data files: 100%|██████████| 1/1 [01:02<00:00, 62.77s/it]\n",
      "Extracting data files: 100%|██████████| 1/1 [00:08<00:00,  8.89s/it]\n",
      "                                                                     \r"
     ]
    },
    {
     "name": "stdout",
     "output_type": "stream",
     "text": [
      "Dataset the-reddit-covid-dataset downloaded and prepared to /Users/lennartwachowiak/.cache/huggingface/datasets/SocialGrep___the-reddit-covid-dataset/posts/1.0.0/35698a78e6ebe9f3da4d0d354139c89d8097b4498816cab987639ad00dbe4a92. Subsequent calls will reuse this data.\n"
     ]
    },
    {
     "name": "stderr",
     "output_type": "stream",
     "text": [
      "100%|██████████| 1/1 [00:00<00:00,  6.18it/s]\n"
     ]
    }
   ],
   "source": [
    "from datasets import load_dataset\n",
    "text_dataset = load_dataset(\"SocialGrep/the-reddit-covid-dataset\", \"posts\")"
   ]
  },
  {
   "cell_type": "code",
   "execution_count": 130,
   "metadata": {},
   "outputs": [],
   "source": [
    "sentences_to_analyse=[]\n",
    "for sentence in text_dataset[\"train\"][\"title\"][0:10000]:\n",
    "    if \"restriction\" in sentence:\n",
    "        sentences_to_analyse.append(sentence)\n",
    "        #print(sentence)\n",
    "    "
   ]
  },
  {
   "cell_type": "code",
   "execution_count": 121,
   "metadata": {},
   "outputs": [
    {
     "name": "stdout",
     "output_type": "stream",
     "text": [
      "128\n"
     ]
    }
   ],
   "source": [
    "# remove duplicates from sentences_to_analyse\n",
    "sentences_to_analyse = list(set(sentences_to_analyse))\n",
    "print(len(sentences_to_analyse))"
   ]
  },
  {
   "cell_type": "code",
   "execution_count": 159,
   "metadata": {},
   "outputs": [],
   "source": [
    "def create_long_prompt_new_text(list_of_prompts, list_of_completions, start_index, end_index, query_text, query_target):\n",
    "    prompt=\"\"\n",
    "    for j in range(start_index, end_index):\n",
    "        prompt+=list_of_prompts[j]+list_of_completions[j]+\"\\n\"\n",
    "    prompt+=\"Extract the conceptual metaphor from the following sentence:\\nSentence: \"\n",
    "    prompt+=query_text\n",
    "    prompt+=\"\\nTarget Domain: \"+query_target\n",
    "    prompt+=\"\\nSource Domain:\"\n",
    "    return prompt"
   ]
  },
  {
   "cell_type": "code",
   "execution_count": 160,
   "metadata": {},
   "outputs": [],
   "source": [
    "analysis_prompts = []\n",
    "for s in sentences_to_analyse:\n",
    "    analysis_prompts.append(create_long_prompt_new_text(list_of_source_prompts, list_of_source_completions, 0, trainings_units, s, \"restriction\"))"
   ]
  },
  {
   "cell_type": "code",
   "execution_count": 161,
   "metadata": {},
   "outputs": [
    {
     "name": "stdout",
     "output_type": "stream",
     "text": [
      "Extract the conceptual metaphor from the following sentence:\n",
      "Sentence: She spends her time unwisely.\n",
      "Target Domain: time\n",
      "Source Domain:money\n",
      "Extract the conceptual metaphor from the following sentence:\n",
      "Sentence: Even small magnets are sources of magnetism that can erase credit cards.\n",
      "Target Domain: force\n",
      "Source Domain:object, mover\n",
      "Extract the conceptual metaphor from the following sentence:\n",
      "Sentence: I'm all charged up and full of energy\n",
      "Target Domain: people\n",
      "Source Domain:batteries\n",
      "Extract the conceptual metaphor from the following sentence:\n",
      "Sentence: He turned all funny.\n",
      "Target Domain: change\n",
      "Source Domain:direction, motion, movement\n",
      "Extract the conceptual metaphor from the following sentence:\n",
      "Sentence: Daughter broke Covid restrictions against the rules of the house\n",
      "Target Domain: restriction\n",
      "Source Domain:\n"
     ]
    }
   ],
   "source": [
    "print(analysis_prompts[0])"
   ]
  },
  {
   "cell_type": "code",
   "execution_count": 162,
   "metadata": {},
   "outputs": [],
   "source": [
    "GPT3_analysis_completions=[]\n",
    "for p in analysis_prompts[:10]:\n",
    "    c = openai.Completion.create(\n",
    "            model=\"text-davinci-002\",\n",
    "            prompt=p,\n",
    "            max_tokens=14,\n",
    "            temperature=0\n",
    "        )\n",
    "    GPT3_analysis_completions.append(c)"
   ]
  },
  {
   "cell_type": "code",
   "execution_count": 164,
   "metadata": {},
   "outputs": [
    {
     "name": "stdout",
     "output_type": "stream",
     "text": [
      "Daughter broke Covid restrictions against the rules of the house\n",
      "Predicted Source Domain: prison\n",
      "\n",
      "Farmers Mother of all protests still going ahead next month despite Covid-19 restrictions\n",
      "Predicted Source Domain: containment, enclosure\n",
      "\n",
      "Illinois trying to legislate Covid restrictions... ?\n",
      "Predicted Source Domain:  law\n",
      "\n",
      "@Reuters: Biden issuing new order lifting COVID-19 travel restrictions, imposing vaccine rules https://t.co/pZogUEwyLV https://t.co/EoRYNpqFlr\n",
      "Predicted Source Domain:  travel\n",
      "\n",
      "COVID restrictions in Prague?\n",
      "Predicted Source Domain: prison\n",
      "\n",
      "Parents, has covid restrictions added more or less pressure on you to be a Super Parent?\n",
      "Predicted Source Domain: weight, pressure\n",
      "\n",
      "Advice for friend circumventing COVID restrictions\n",
      "Predicted Source Domain: obstacle, blockage\n",
      "\n",
      "[World] - Slovakia extends COVID-19 restrictions amid infection surge | Toronto Star\n",
      "Predicted Source Domain: containment\n",
      "\n",
      "[World] - Slovakia extends COVID-19 restrictions amid infection surge\n",
      "Predicted Source Domain: containment\n",
      "\n",
      "Slovakia extends COVID-19 restrictions amid infection surge\n",
      "Predicted Source Domain: containment\n",
      "\n"
     ]
    }
   ],
   "source": [
    "for i in range(len(GPT3_analysis_completions)):\n",
    "    print(sentences_to_analyse[i])\n",
    "    print(\"Predicted Source Domain:\", GPT3_analysis_completions[i].choices[0].text)\n",
    "    print()"
   ]
  }
 ],
 "metadata": {
  "interpreter": {
   "hash": "38cca0c38332a56087b24af0bc80247f4fced29cb4f7f437d91dc159adec9c4e"
  },
  "kernelspec": {
   "display_name": "Python 3.9.7 ('base')",
   "language": "python",
   "name": "python3"
  },
  "language_info": {
   "codemirror_mode": {
    "name": "ipython",
    "version": 3
   },
   "file_extension": ".py",
   "mimetype": "text/x-python",
   "name": "python",
   "nbconvert_exporter": "python",
   "pygments_lexer": "ipython3",
   "version": "3.9.7"
  },
  "orig_nbformat": 4
 },
 "nbformat": 4,
 "nbformat_minor": 2
}
